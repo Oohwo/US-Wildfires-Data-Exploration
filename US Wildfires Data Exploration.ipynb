{
 "cells": [
  {
   "cell_type": "markdown",
   "id": "671a2742",
   "metadata": {},
   "source": [
    "# US Wildfires Data Exploration"
   ]
  },
  {
   "cell_type": "markdown",
   "id": "f0b7027a",
   "metadata": {},
   "source": [
    "## Introduction\n",
    "\n",
    "As someone who is working part-time in the property insurance industry and has taken EAPS 106 (Geosciences in the Cinema) in the past, I decided to work with the Wildfire Dataset provided by the U.S. Department of Agriculture.\n",
    "\n",
    "I originally used the [1.88 Million US Wildfires dataset](https://www.kaggle.com/datasets/rtatman/188-million-us-wildfires/data) from Kaggle which contained US wildfires from 1992 to 2015. Further examination into the source of the dataset led me to a newer dataset titled: [Spatial wildfire occurrence data for the United States, 1992-2020](https://www.fs.usda.gov/rds/archive/catalog/RDS-2013-0009.6)."
   ]
  },
  {
   "cell_type": "markdown",
   "id": "dd12b56a",
   "metadata": {},
   "source": [
    "## Goals\n",
    "\n",
    "I may not accomplish all of these, but it's nice to keep a list of ideas:\n",
    "\n",
    "- Are Wildfires Becoming More Common?\n",
    "- Are Wildfires Becoming Larger?\n",
    "- What are the top 5 Largest US Wildfires since 1992?\n",
    "- What are the Top Five States with Wildfires?\n",
    "- Number of Wildfires by Size?\n",
    "- Most Common Causes of Wildfires?\n",
    "- Graph Wildfires by Lat and Long using Plotly"
   ]
  },
  {
   "cell_type": "markdown",
   "id": "ae8db272",
   "metadata": {},
   "source": [
    "## Data\n",
    "Within the [newer dataset](https://www.fs.usda.gov/rds/archive/catalog/RDS-2013-0009.6), I scrolled to the bottom and decided to download `RDS-2013-0009.6_Data_Format4_SQLITE.zip` since I was a bit familiar with SQL. \n",
    "\n",
    "This dataset was incredibly large. I downloaded it as a 213.96 MB compressed zip file but when unzipped, the SQLITE database was 958 MB.\n",
    "\n",
    "Below are the introductory steps for loading the dataset into Jupyter Notebooks:"
   ]
  },
  {
   "cell_type": "code",
   "execution_count": 46,
   "id": "979a4a7a",
   "metadata": {},
   "outputs": [],
   "source": [
    "# imports\n",
    "import sqlite3 # sql connection\n",
    "import pandas as pd # data manipulation\n",
    "import numpy as np # math / plotting\n",
    "import matplotlib.pyplot as plt # data visualization\n",
    "import plotly.express as px # plot choropleth map\n",
    "\n",
    "# ignore warnings\n",
    "import warnings\n",
    "warnings.filterwarnings(\"ignore\")"
   ]
  },
  {
   "cell_type": "code",
   "execution_count": 7,
   "id": "5d80dca1",
   "metadata": {},
   "outputs": [],
   "source": [
    "connection = sqlite3.connect('FPA_FOD_20221014.sqlite') # create a connection to the db\n",
    "cursor = connection.cursor() # create a cursor to interact w the db\n",
    "\n",
    "# sql query to get the names of all the tables in the db\n",
    "query = \"\"\"\n",
    "        SELECT \n",
    "            name \n",
    "        FROM \n",
    "            sqlite_master \n",
    "        WHERE \n",
    "            type='table';\n",
    "        \"\"\"\n",
    "\n",
    "cursor.execute(query) # execute query\n",
    "\n",
    "tables = cursor.fetchall() # retrieve table names\n",
    "\n",
    "table_names = [table[0] for table in tables] # list comprehension to store table names in a list"
   ]
  },
  {
   "cell_type": "markdown",
   "id": "b490e18e",
   "metadata": {},
   "source": [
    "Below is a list of tables within the database:"
   ]
  },
  {
   "cell_type": "code",
   "execution_count": 8,
   "id": "07bf35d6",
   "metadata": {},
   "outputs": [
    {
     "data": {
      "text/plain": [
       "['spatial_ref_sys',\n",
       " 'spatialite_history',\n",
       " 'sqlite_sequence',\n",
       " 'geometry_columns',\n",
       " 'views_geometry_columns',\n",
       " 'virts_geometry_columns',\n",
       " 'geometry_columns_statistics',\n",
       " 'views_geometry_columns_statistics',\n",
       " 'virts_geometry_columns_statistics',\n",
       " 'geometry_columns_field_infos',\n",
       " 'views_geometry_columns_field_infos',\n",
       " 'virts_geometry_columns_field_infos',\n",
       " 'geometry_columns_time',\n",
       " 'geometry_columns_auth',\n",
       " 'views_geometry_columns_auth',\n",
       " 'virts_geometry_columns_auth',\n",
       " 'sql_statements_log',\n",
       " 'SpatialIndex',\n",
       " 'NWCG_UnitIdActive_20200123',\n",
       " 'Fires',\n",
       " 'idx_Fires_Shape',\n",
       " 'idx_Fires_Shape_rowid',\n",
       " 'idx_Fires_Shape_node',\n",
       " 'idx_Fires_Shape_parent']"
      ]
     },
     "execution_count": 8,
     "metadata": {},
     "output_type": "execute_result"
    }
   ],
   "source": [
    "table_names"
   ]
  },
  {
   "cell_type": "markdown",
   "id": "005da51c",
   "metadata": {},
   "source": [
    "For our purposes, we'll just be using the `Fires` table. The metadata is available [here](https://www.fs.usda.gov/rds/archive/products/RDS-2013-0009.6/_metadata_RDS-2013-0009.6.html).\n",
    "\n",
    "We'll be using Pandas from here on out to perform our exploratory analysis."
   ]
  },
  {
   "cell_type": "code",
   "execution_count": 9,
   "id": "4cc2f18b",
   "metadata": {},
   "outputs": [],
   "source": [
    "table_name = 'Fires'\n",
    "\n",
    "query = f\"\"\"\n",
    "        SELECT * FROM {table_name};\n",
    "        \"\"\"\n",
    "\n",
    "original_fires_table = pd.read_sql_query(query, connection)"
   ]
  },
  {
   "cell_type": "markdown",
   "id": "978fed66",
   "metadata": {},
   "source": [
    "Below is a preview of what the `fires_table` looks like. \n",
    "There are 2,303,566 rows and 39 columns."
   ]
  },
  {
   "cell_type": "code",
   "execution_count": 10,
   "id": "826878fa",
   "metadata": {},
   "outputs": [
    {
     "data": {
      "text/html": [
       "<div>\n",
       "<style scoped>\n",
       "    .dataframe tbody tr th:only-of-type {\n",
       "        vertical-align: middle;\n",
       "    }\n",
       "\n",
       "    .dataframe tbody tr th {\n",
       "        vertical-align: top;\n",
       "    }\n",
       "\n",
       "    .dataframe thead th {\n",
       "        text-align: right;\n",
       "    }\n",
       "</style>\n",
       "<table border=\"1\" class=\"dataframe\">\n",
       "  <thead>\n",
       "    <tr style=\"text-align: right;\">\n",
       "      <th></th>\n",
       "      <th>OBJECTID</th>\n",
       "      <th>Shape</th>\n",
       "      <th>FOD_ID</th>\n",
       "      <th>FPA_ID</th>\n",
       "      <th>SOURCE_SYSTEM_TYPE</th>\n",
       "      <th>SOURCE_SYSTEM</th>\n",
       "      <th>NWCG_REPORTING_AGENCY</th>\n",
       "      <th>NWCG_REPORTING_UNIT_ID</th>\n",
       "      <th>NWCG_REPORTING_UNIT_NAME</th>\n",
       "      <th>SOURCE_REPORTING_UNIT</th>\n",
       "      <th>...</th>\n",
       "      <th>CONT_TIME</th>\n",
       "      <th>FIRE_SIZE</th>\n",
       "      <th>FIRE_SIZE_CLASS</th>\n",
       "      <th>LATITUDE</th>\n",
       "      <th>LONGITUDE</th>\n",
       "      <th>OWNER_DESCR</th>\n",
       "      <th>STATE</th>\n",
       "      <th>COUNTY</th>\n",
       "      <th>FIPS_CODE</th>\n",
       "      <th>FIPS_NAME</th>\n",
       "    </tr>\n",
       "  </thead>\n",
       "  <tbody>\n",
       "    <tr>\n",
       "      <th>0</th>\n",
       "      <td>1</td>\n",
       "      <td>b'\\x00\\x01\\xad\\x10\\x00\\x00\\xc8\\xce\\n[_@^\\xc0\\x...</td>\n",
       "      <td>1</td>\n",
       "      <td>FS-1418826</td>\n",
       "      <td>FED</td>\n",
       "      <td>FS-FIRESTAT</td>\n",
       "      <td>FS</td>\n",
       "      <td>USCAPNF</td>\n",
       "      <td>Plumas National Forest</td>\n",
       "      <td>0511</td>\n",
       "      <td>...</td>\n",
       "      <td>1730</td>\n",
       "      <td>0.10</td>\n",
       "      <td>A</td>\n",
       "      <td>40.036944</td>\n",
       "      <td>-121.005833</td>\n",
       "      <td>USFS</td>\n",
       "      <td>CA</td>\n",
       "      <td>63</td>\n",
       "      <td>06063</td>\n",
       "      <td>Plumas County</td>\n",
       "    </tr>\n",
       "    <tr>\n",
       "      <th>1</th>\n",
       "      <td>2</td>\n",
       "      <td>b'\\x00\\x01\\xad\\x10\\x00\\x00\\xc8\\xe594\\xe2\\x19^\\...</td>\n",
       "      <td>2</td>\n",
       "      <td>FS-1418827</td>\n",
       "      <td>FED</td>\n",
       "      <td>FS-FIRESTAT</td>\n",
       "      <td>FS</td>\n",
       "      <td>USCAENF</td>\n",
       "      <td>Eldorado National Forest</td>\n",
       "      <td>0503</td>\n",
       "      <td>...</td>\n",
       "      <td>1530</td>\n",
       "      <td>0.25</td>\n",
       "      <td>A</td>\n",
       "      <td>38.933056</td>\n",
       "      <td>-120.404444</td>\n",
       "      <td>USFS</td>\n",
       "      <td>CA</td>\n",
       "      <td>61</td>\n",
       "      <td>06061</td>\n",
       "      <td>Placer County</td>\n",
       "    </tr>\n",
       "    <tr>\n",
       "      <th>2</th>\n",
       "      <td>3</td>\n",
       "      <td>b'\\x00\\x01\\xad\\x10\\x00\\x00x{\\xac \\x13/^\\xc0@\\x...</td>\n",
       "      <td>3</td>\n",
       "      <td>FS-1418835</td>\n",
       "      <td>FED</td>\n",
       "      <td>FS-FIRESTAT</td>\n",
       "      <td>FS</td>\n",
       "      <td>USCAENF</td>\n",
       "      <td>Eldorado National Forest</td>\n",
       "      <td>0503</td>\n",
       "      <td>...</td>\n",
       "      <td>2024</td>\n",
       "      <td>0.10</td>\n",
       "      <td>A</td>\n",
       "      <td>38.984167</td>\n",
       "      <td>-120.735556</td>\n",
       "      <td>STATE OR PRIVATE</td>\n",
       "      <td>CA</td>\n",
       "      <td>17</td>\n",
       "      <td>06017</td>\n",
       "      <td>El Dorado County</td>\n",
       "    </tr>\n",
       "    <tr>\n",
       "      <th>3</th>\n",
       "      <td>4</td>\n",
       "      <td>b'\\x00\\x01\\xad\\x10\\x00\\x00\\xc8\\x13u\\xd7s\\xfa]\\...</td>\n",
       "      <td>4</td>\n",
       "      <td>FS-1418845</td>\n",
       "      <td>FED</td>\n",
       "      <td>FS-FIRESTAT</td>\n",
       "      <td>FS</td>\n",
       "      <td>USCAENF</td>\n",
       "      <td>Eldorado National Forest</td>\n",
       "      <td>0503</td>\n",
       "      <td>...</td>\n",
       "      <td>1400</td>\n",
       "      <td>0.10</td>\n",
       "      <td>A</td>\n",
       "      <td>38.559167</td>\n",
       "      <td>-119.913333</td>\n",
       "      <td>USFS</td>\n",
       "      <td>CA</td>\n",
       "      <td>3</td>\n",
       "      <td>06003</td>\n",
       "      <td>Alpine County</td>\n",
       "    </tr>\n",
       "    <tr>\n",
       "      <th>4</th>\n",
       "      <td>5</td>\n",
       "      <td>b'\\x00\\x01\\xad\\x10\\x00\\x00\\xd0\\x11y\\xf8\\xb6\\xf...</td>\n",
       "      <td>5</td>\n",
       "      <td>FS-1418847</td>\n",
       "      <td>FED</td>\n",
       "      <td>FS-FIRESTAT</td>\n",
       "      <td>FS</td>\n",
       "      <td>USCAENF</td>\n",
       "      <td>Eldorado National Forest</td>\n",
       "      <td>0503</td>\n",
       "      <td>...</td>\n",
       "      <td>1200</td>\n",
       "      <td>0.10</td>\n",
       "      <td>A</td>\n",
       "      <td>38.559167</td>\n",
       "      <td>-119.933056</td>\n",
       "      <td>USFS</td>\n",
       "      <td>CA</td>\n",
       "      <td>3</td>\n",
       "      <td>06003</td>\n",
       "      <td>Alpine County</td>\n",
       "    </tr>\n",
       "    <tr>\n",
       "      <th>...</th>\n",
       "      <td>...</td>\n",
       "      <td>...</td>\n",
       "      <td>...</td>\n",
       "      <td>...</td>\n",
       "      <td>...</td>\n",
       "      <td>...</td>\n",
       "      <td>...</td>\n",
       "      <td>...</td>\n",
       "      <td>...</td>\n",
       "      <td>...</td>\n",
       "      <td>...</td>\n",
       "      <td>...</td>\n",
       "      <td>...</td>\n",
       "      <td>...</td>\n",
       "      <td>...</td>\n",
       "      <td>...</td>\n",
       "      <td>...</td>\n",
       "      <td>...</td>\n",
       "      <td>...</td>\n",
       "      <td>...</td>\n",
       "      <td>...</td>\n",
       "    </tr>\n",
       "    <tr>\n",
       "      <th>2303561</th>\n",
       "      <td>2303562</td>\n",
       "      <td>b'\\x00\\x01\\xad\\x10\\x00\\x00\\xcc\\x9a\\xedDh=[\\xc0...</td>\n",
       "      <td>400732978</td>\n",
       "      <td>ICS209_2020_11710294</td>\n",
       "      <td>INTERAGCY</td>\n",
       "      <td>IA-ICS209</td>\n",
       "      <td>BLM</td>\n",
       "      <td>USCOGRD</td>\n",
       "      <td>Grand Junction Field Office</td>\n",
       "      <td>COGRD</td>\n",
       "      <td>...</td>\n",
       "      <td>None</td>\n",
       "      <td>1.00</td>\n",
       "      <td>B</td>\n",
       "      <td>39.037890</td>\n",
       "      <td>-108.959500</td>\n",
       "      <td>MISSING/NOT SPECIFIED</td>\n",
       "      <td>CO</td>\n",
       "      <td>None</td>\n",
       "      <td>None</td>\n",
       "      <td>None</td>\n",
       "    </tr>\n",
       "    <tr>\n",
       "      <th>2303562</th>\n",
       "      <td>2303563</td>\n",
       "      <td>b'\\x00\\x01\\xad\\x10\\x00\\x00\\xe8\\x11\\xda\\xda1\\xe...</td>\n",
       "      <td>400732979</td>\n",
       "      <td>ICS209_2020_11781527</td>\n",
       "      <td>INTERAGCY</td>\n",
       "      <td>IA-ICS209</td>\n",
       "      <td>ST/C&amp;L</td>\n",
       "      <td>USCAMMU</td>\n",
       "      <td>Merced-Mariposa Unit</td>\n",
       "      <td>CAMMU</td>\n",
       "      <td>...</td>\n",
       "      <td></td>\n",
       "      <td>100.00</td>\n",
       "      <td>D</td>\n",
       "      <td>37.148611</td>\n",
       "      <td>-119.503056</td>\n",
       "      <td>Private</td>\n",
       "      <td>CA</td>\n",
       "      <td>Madera</td>\n",
       "      <td>06039</td>\n",
       "      <td>Madera County</td>\n",
       "    </tr>\n",
       "    <tr>\n",
       "      <th>2303563</th>\n",
       "      <td>2303564</td>\n",
       "      <td>b'\\x00\\x01\\xad\\x10\\x00\\x00P\\xf6\\xa7\\x9eV\\x9c\\\\...</td>\n",
       "      <td>400732980</td>\n",
       "      <td>ICS209_2020_11815219</td>\n",
       "      <td>INTERAGCY</td>\n",
       "      <td>IA-ICS209</td>\n",
       "      <td>FS</td>\n",
       "      <td>USMTBRF</td>\n",
       "      <td>Bitterroot National Forest</td>\n",
       "      <td>MTBRF</td>\n",
       "      <td>...</td>\n",
       "      <td>None</td>\n",
       "      <td>50.00</td>\n",
       "      <td>C</td>\n",
       "      <td>46.151370</td>\n",
       "      <td>-114.442800</td>\n",
       "      <td>MISSING/NOT SPECIFIED</td>\n",
       "      <td>MT</td>\n",
       "      <td>None</td>\n",
       "      <td>None</td>\n",
       "      <td>None</td>\n",
       "    </tr>\n",
       "    <tr>\n",
       "      <th>2303564</th>\n",
       "      <td>2303565</td>\n",
       "      <td>b'\\x00\\x01\\xad\\x10\\x00\\x00\\\\\\x87\\xc8\\xbbS\\x07^...</td>\n",
       "      <td>400732982</td>\n",
       "      <td>ICS209_2020_11831809</td>\n",
       "      <td>INTERAGCY</td>\n",
       "      <td>IA-ICS209</td>\n",
       "      <td>FWS</td>\n",
       "      <td>USWAMCR</td>\n",
       "      <td>Mid Columbia National Wildlife Refuge Complex</td>\n",
       "      <td>WAMCR</td>\n",
       "      <td>...</td>\n",
       "      <td>1900</td>\n",
       "      <td>24892.00</td>\n",
       "      <td>G</td>\n",
       "      <td>46.670340</td>\n",
       "      <td>-120.114500</td>\n",
       "      <td>UNDEFINED FEDERAL</td>\n",
       "      <td>WA</td>\n",
       "      <td>Yakima</td>\n",
       "      <td>53077</td>\n",
       "      <td>Yakima County</td>\n",
       "    </tr>\n",
       "    <tr>\n",
       "      <th>2303565</th>\n",
       "      <td>2303566</td>\n",
       "      <td>b'\\x00\\x01\\xad\\x10\\x00\\x00P\\xdb%(\\x80\\xc9S\\xc0...</td>\n",
       "      <td>400732984</td>\n",
       "      <td>ICS209_2020_11977822</td>\n",
       "      <td>INTERAGCY</td>\n",
       "      <td>IA-ICS209</td>\n",
       "      <td>FS</td>\n",
       "      <td>USVAVAF</td>\n",
       "      <td>George Washington &amp; Jefferson National Forests</td>\n",
       "      <td>VAVAF</td>\n",
       "      <td>...</td>\n",
       "      <td>1223</td>\n",
       "      <td>105.00</td>\n",
       "      <td>D</td>\n",
       "      <td>38.578900</td>\n",
       "      <td>-79.148450</td>\n",
       "      <td>UNDEFINED FEDERAL</td>\n",
       "      <td>VA</td>\n",
       "      <td>Rockingham</td>\n",
       "      <td>51165</td>\n",
       "      <td>Rockingham County</td>\n",
       "    </tr>\n",
       "  </tbody>\n",
       "</table>\n",
       "<p>2303566 rows × 39 columns</p>\n",
       "</div>"
      ],
      "text/plain": [
       "         OBJECTID                                              Shape  \\\n",
       "0               1  b'\\x00\\x01\\xad\\x10\\x00\\x00\\xc8\\xce\\n[_@^\\xc0\\x...   \n",
       "1               2  b'\\x00\\x01\\xad\\x10\\x00\\x00\\xc8\\xe594\\xe2\\x19^\\...   \n",
       "2               3  b'\\x00\\x01\\xad\\x10\\x00\\x00x{\\xac \\x13/^\\xc0@\\x...   \n",
       "3               4  b'\\x00\\x01\\xad\\x10\\x00\\x00\\xc8\\x13u\\xd7s\\xfa]\\...   \n",
       "4               5  b'\\x00\\x01\\xad\\x10\\x00\\x00\\xd0\\x11y\\xf8\\xb6\\xf...   \n",
       "...           ...                                                ...   \n",
       "2303561   2303562  b'\\x00\\x01\\xad\\x10\\x00\\x00\\xcc\\x9a\\xedDh=[\\xc0...   \n",
       "2303562   2303563  b'\\x00\\x01\\xad\\x10\\x00\\x00\\xe8\\x11\\xda\\xda1\\xe...   \n",
       "2303563   2303564  b'\\x00\\x01\\xad\\x10\\x00\\x00P\\xf6\\xa7\\x9eV\\x9c\\\\...   \n",
       "2303564   2303565  b'\\x00\\x01\\xad\\x10\\x00\\x00\\\\\\x87\\xc8\\xbbS\\x07^...   \n",
       "2303565   2303566  b'\\x00\\x01\\xad\\x10\\x00\\x00P\\xdb%(\\x80\\xc9S\\xc0...   \n",
       "\n",
       "            FOD_ID                FPA_ID SOURCE_SYSTEM_TYPE SOURCE_SYSTEM  \\\n",
       "0                1            FS-1418826                FED   FS-FIRESTAT   \n",
       "1                2            FS-1418827                FED   FS-FIRESTAT   \n",
       "2                3            FS-1418835                FED   FS-FIRESTAT   \n",
       "3                4            FS-1418845                FED   FS-FIRESTAT   \n",
       "4                5            FS-1418847                FED   FS-FIRESTAT   \n",
       "...            ...                   ...                ...           ...   \n",
       "2303561  400732978  ICS209_2020_11710294          INTERAGCY     IA-ICS209   \n",
       "2303562  400732979  ICS209_2020_11781527          INTERAGCY     IA-ICS209   \n",
       "2303563  400732980  ICS209_2020_11815219          INTERAGCY     IA-ICS209   \n",
       "2303564  400732982  ICS209_2020_11831809          INTERAGCY     IA-ICS209   \n",
       "2303565  400732984  ICS209_2020_11977822          INTERAGCY     IA-ICS209   \n",
       "\n",
       "        NWCG_REPORTING_AGENCY NWCG_REPORTING_UNIT_ID  \\\n",
       "0                          FS                USCAPNF   \n",
       "1                          FS                USCAENF   \n",
       "2                          FS                USCAENF   \n",
       "3                          FS                USCAENF   \n",
       "4                          FS                USCAENF   \n",
       "...                       ...                    ...   \n",
       "2303561                   BLM                USCOGRD   \n",
       "2303562                ST/C&L                USCAMMU   \n",
       "2303563                    FS                USMTBRF   \n",
       "2303564                   FWS                USWAMCR   \n",
       "2303565                    FS                USVAVAF   \n",
       "\n",
       "                               NWCG_REPORTING_UNIT_NAME SOURCE_REPORTING_UNIT  \\\n",
       "0                                Plumas National Forest                  0511   \n",
       "1                              Eldorado National Forest                  0503   \n",
       "2                              Eldorado National Forest                  0503   \n",
       "3                              Eldorado National Forest                  0503   \n",
       "4                              Eldorado National Forest                  0503   \n",
       "...                                                 ...                   ...   \n",
       "2303561                     Grand Junction Field Office                 COGRD   \n",
       "2303562                            Merced-Mariposa Unit                 CAMMU   \n",
       "2303563                      Bitterroot National Forest                 MTBRF   \n",
       "2303564   Mid Columbia National Wildlife Refuge Complex                 WAMCR   \n",
       "2303565  George Washington & Jefferson National Forests                 VAVAF   \n",
       "\n",
       "         ... CONT_TIME FIRE_SIZE FIRE_SIZE_CLASS   LATITUDE   LONGITUDE  \\\n",
       "0        ...      1730      0.10               A  40.036944 -121.005833   \n",
       "1        ...      1530      0.25               A  38.933056 -120.404444   \n",
       "2        ...      2024      0.10               A  38.984167 -120.735556   \n",
       "3        ...      1400      0.10               A  38.559167 -119.913333   \n",
       "4        ...      1200      0.10               A  38.559167 -119.933056   \n",
       "...      ...       ...       ...             ...        ...         ...   \n",
       "2303561  ...      None      1.00               B  39.037890 -108.959500   \n",
       "2303562  ...              100.00               D  37.148611 -119.503056   \n",
       "2303563  ...      None     50.00               C  46.151370 -114.442800   \n",
       "2303564  ...      1900  24892.00               G  46.670340 -120.114500   \n",
       "2303565  ...      1223    105.00               D  38.578900  -79.148450   \n",
       "\n",
       "                   OWNER_DESCR STATE      COUNTY FIPS_CODE          FIPS_NAME  \n",
       "0                         USFS    CA          63     06063      Plumas County  \n",
       "1                         USFS    CA          61     06061      Placer County  \n",
       "2             STATE OR PRIVATE    CA          17     06017   El Dorado County  \n",
       "3                         USFS    CA           3     06003      Alpine County  \n",
       "4                         USFS    CA           3     06003      Alpine County  \n",
       "...                        ...   ...         ...       ...                ...  \n",
       "2303561  MISSING/NOT SPECIFIED    CO        None      None               None  \n",
       "2303562                Private    CA      Madera     06039      Madera County  \n",
       "2303563  MISSING/NOT SPECIFIED    MT        None      None               None  \n",
       "2303564      UNDEFINED FEDERAL    WA      Yakima     53077      Yakima County  \n",
       "2303565      UNDEFINED FEDERAL    VA  Rockingham     51165  Rockingham County  \n",
       "\n",
       "[2303566 rows x 39 columns]"
      ]
     },
     "execution_count": 10,
     "metadata": {},
     "output_type": "execute_result"
    }
   ],
   "source": [
    "original_fires_table"
   ]
  },
  {
   "cell_type": "code",
   "execution_count": 11,
   "id": "30b60a24",
   "metadata": {},
   "outputs": [
    {
     "data": {
      "text/plain": [
       "Index(['OBJECTID', 'Shape', 'FOD_ID', 'FPA_ID', 'SOURCE_SYSTEM_TYPE',\n",
       "       'SOURCE_SYSTEM', 'NWCG_REPORTING_AGENCY', 'NWCG_REPORTING_UNIT_ID',\n",
       "       'NWCG_REPORTING_UNIT_NAME', 'SOURCE_REPORTING_UNIT',\n",
       "       'SOURCE_REPORTING_UNIT_NAME', 'LOCAL_FIRE_REPORT_ID',\n",
       "       'LOCAL_INCIDENT_ID', 'FIRE_CODE', 'FIRE_NAME',\n",
       "       'ICS_209_PLUS_INCIDENT_JOIN_ID', 'ICS_209_PLUS_COMPLEX_JOIN_ID',\n",
       "       'MTBS_ID', 'MTBS_FIRE_NAME', 'COMPLEX_NAME', 'FIRE_YEAR',\n",
       "       'DISCOVERY_DATE', 'DISCOVERY_DOY', 'DISCOVERY_TIME',\n",
       "       'NWCG_CAUSE_CLASSIFICATION', 'NWCG_GENERAL_CAUSE',\n",
       "       'NWCG_CAUSE_AGE_CATEGORY', 'CONT_DATE', 'CONT_DOY', 'CONT_TIME',\n",
       "       'FIRE_SIZE', 'FIRE_SIZE_CLASS', 'LATITUDE', 'LONGITUDE', 'OWNER_DESCR',\n",
       "       'STATE', 'COUNTY', 'FIPS_CODE', 'FIPS_NAME'],\n",
       "      dtype='object')"
      ]
     },
     "execution_count": 11,
     "metadata": {},
     "output_type": "execute_result"
    }
   ],
   "source": [
    "original_fires_table.columns"
   ]
  },
  {
   "cell_type": "markdown",
   "id": "c4911552",
   "metadata": {},
   "source": [
    "## Data Preparation and Cleaning"
   ]
  },
  {
   "cell_type": "markdown",
   "id": "7552a914",
   "metadata": {},
   "source": [
    "There are *a lot* of columns. \n",
    "\n",
    "For the purposes of this analysis, I trim down the number of columns for what's needed for me. \n",
    "\n",
    "Of the 39 columns, I decide to keep the following 16 columns:\n",
    "\n",
    "| COLUMN NAME               | ATTRIBUTES |\n",
    "|---------------------------|------------|\n",
    "| `OBJECTID`                  | This would be used as a unique ID for a wildfire. <br> Could be good for if I wanted to group this dataset with other datasets / tables. |\n",
    "| `FIRE_NAME`                 | Name of the Wildfire |\n",
    "| `FIRE_YEAR`                 | Calendar year in which the fire was discovered or confirmed to exist |\n",
    "| `DISCOVERY_DATE`            | Date on which the fire was discovered or confirmed to exist. <br> This could be used to extract the month and day if I wanted to go to an even more granular level. |\n",
    "| `DISCOVERY_TIME`            | Time of day that the fire was discovered or confirmed to exist. <br> This could be used to see if there is a certain time of day where wildfires are more common. |\n",
    "| `NWCG_CAUSE_CLASSIFICATION` | Broad classification of the reason the fire occurred (Human, Natural, Missing data / not specified / undetermined) |\n",
    "| `NWCG_GENERAL_CAUSE`        | Event or circumstance that started a fire or set the stage for its occurrence. See **General Causes** for more. |\n",
    "| `FIRE_SIZE`                 | The estimate of acres within the final perimeter of the fire. |\n",
    "| `FIRE_SIZE_CLASS`           | Code for fire size based on the number of acres within the final fire perimeter. |\n",
    "| `OWNER_DESCR`               | Name of the primary owner or entity responsible for managing the land at the point of origin of the fire at the time of the incident. |\n",
    "| `CONT_DATE`                 | Date on which the fire was declared contained or otherwise controlled (mm/dd/yyyy) |\n",
    "| `CONT_TIME`                 | Time of day that the fire was declared contained or otherwise controlled (hhmm) |\n",
    "| `LATITUDE`                  | Geographical coordinate (latitude) |\n",
    "| `LONGITUDE`                 | Geographical coordinate (longitude) |\n",
    "| `STATE`                     | Two-letter state code where the fire occurred |\n",
    "| `COUNTY`                    | County where the fire occurred |"
   ]
  },
  {
   "cell_type": "code",
   "execution_count": 12,
   "id": "0a1e8a75",
   "metadata": {},
   "outputs": [],
   "source": [
    "# trim to needed columns\n",
    "\n",
    "needed_columns = ['OBJECTID', 'FIRE_NAME', 'FIRE_YEAR', \n",
    "                  'DISCOVERY_DATE', 'DISCOVERY_TIME', \n",
    "                  'NWCG_CAUSE_CLASSIFICATION', 'NWCG_GENERAL_CAUSE', \n",
    "                  'FIRE_SIZE', 'FIRE_SIZE_CLASS',\n",
    "                  'OWNER_DESCR', 'CONT_DATE', 'CONT_TIME', \n",
    "                  'LATITUDE', 'LONGITUDE', 'STATE', 'COUNTY']\n",
    "\n",
    "fires_table = original_fires_table[needed_columns]"
   ]
  },
  {
   "cell_type": "code",
   "execution_count": 13,
   "id": "bd13b384",
   "metadata": {},
   "outputs": [
    {
     "data": {
      "text/html": [
       "<div>\n",
       "<style scoped>\n",
       "    .dataframe tbody tr th:only-of-type {\n",
       "        vertical-align: middle;\n",
       "    }\n",
       "\n",
       "    .dataframe tbody tr th {\n",
       "        vertical-align: top;\n",
       "    }\n",
       "\n",
       "    .dataframe thead th {\n",
       "        text-align: right;\n",
       "    }\n",
       "</style>\n",
       "<table border=\"1\" class=\"dataframe\">\n",
       "  <thead>\n",
       "    <tr style=\"text-align: right;\">\n",
       "      <th></th>\n",
       "      <th>OBJECTID</th>\n",
       "      <th>FIRE_NAME</th>\n",
       "      <th>FIRE_YEAR</th>\n",
       "      <th>DISCOVERY_DATE</th>\n",
       "      <th>DISCOVERY_TIME</th>\n",
       "      <th>NWCG_CAUSE_CLASSIFICATION</th>\n",
       "      <th>NWCG_GENERAL_CAUSE</th>\n",
       "      <th>FIRE_SIZE</th>\n",
       "      <th>FIRE_SIZE_CLASS</th>\n",
       "      <th>OWNER_DESCR</th>\n",
       "      <th>CONT_DATE</th>\n",
       "      <th>CONT_TIME</th>\n",
       "      <th>LATITUDE</th>\n",
       "      <th>LONGITUDE</th>\n",
       "      <th>STATE</th>\n",
       "      <th>COUNTY</th>\n",
       "    </tr>\n",
       "  </thead>\n",
       "  <tbody>\n",
       "    <tr>\n",
       "      <th>0</th>\n",
       "      <td>1</td>\n",
       "      <td>FOUNTAIN</td>\n",
       "      <td>2005</td>\n",
       "      <td>2/2/2005</td>\n",
       "      <td>1300</td>\n",
       "      <td>Human</td>\n",
       "      <td>Power generation/transmission/distribution</td>\n",
       "      <td>0.10</td>\n",
       "      <td>A</td>\n",
       "      <td>USFS</td>\n",
       "      <td>2/2/2005</td>\n",
       "      <td>1730</td>\n",
       "      <td>40.036944</td>\n",
       "      <td>-121.005833</td>\n",
       "      <td>CA</td>\n",
       "      <td>63</td>\n",
       "    </tr>\n",
       "    <tr>\n",
       "      <th>1</th>\n",
       "      <td>2</td>\n",
       "      <td>PIGEON</td>\n",
       "      <td>2004</td>\n",
       "      <td>5/12/2004</td>\n",
       "      <td>0845</td>\n",
       "      <td>Natural</td>\n",
       "      <td>Natural</td>\n",
       "      <td>0.25</td>\n",
       "      <td>A</td>\n",
       "      <td>USFS</td>\n",
       "      <td>5/12/2004</td>\n",
       "      <td>1530</td>\n",
       "      <td>38.933056</td>\n",
       "      <td>-120.404444</td>\n",
       "      <td>CA</td>\n",
       "      <td>61</td>\n",
       "    </tr>\n",
       "    <tr>\n",
       "      <th>2</th>\n",
       "      <td>3</td>\n",
       "      <td>SLACK</td>\n",
       "      <td>2004</td>\n",
       "      <td>5/31/2004</td>\n",
       "      <td>1921</td>\n",
       "      <td>Human</td>\n",
       "      <td>Debris and open burning</td>\n",
       "      <td>0.10</td>\n",
       "      <td>A</td>\n",
       "      <td>STATE OR PRIVATE</td>\n",
       "      <td>5/31/2004</td>\n",
       "      <td>2024</td>\n",
       "      <td>38.984167</td>\n",
       "      <td>-120.735556</td>\n",
       "      <td>CA</td>\n",
       "      <td>17</td>\n",
       "    </tr>\n",
       "    <tr>\n",
       "      <th>3</th>\n",
       "      <td>4</td>\n",
       "      <td>DEER</td>\n",
       "      <td>2004</td>\n",
       "      <td>6/28/2004</td>\n",
       "      <td>1600</td>\n",
       "      <td>Natural</td>\n",
       "      <td>Natural</td>\n",
       "      <td>0.10</td>\n",
       "      <td>A</td>\n",
       "      <td>USFS</td>\n",
       "      <td>7/3/2004</td>\n",
       "      <td>1400</td>\n",
       "      <td>38.559167</td>\n",
       "      <td>-119.913333</td>\n",
       "      <td>CA</td>\n",
       "      <td>3</td>\n",
       "    </tr>\n",
       "    <tr>\n",
       "      <th>4</th>\n",
       "      <td>5</td>\n",
       "      <td>STEVENOT</td>\n",
       "      <td>2004</td>\n",
       "      <td>6/28/2004</td>\n",
       "      <td>1600</td>\n",
       "      <td>Natural</td>\n",
       "      <td>Natural</td>\n",
       "      <td>0.10</td>\n",
       "      <td>A</td>\n",
       "      <td>USFS</td>\n",
       "      <td>7/3/2004</td>\n",
       "      <td>1200</td>\n",
       "      <td>38.559167</td>\n",
       "      <td>-119.933056</td>\n",
       "      <td>CA</td>\n",
       "      <td>3</td>\n",
       "    </tr>\n",
       "    <tr>\n",
       "      <th>...</th>\n",
       "      <td>...</td>\n",
       "      <td>...</td>\n",
       "      <td>...</td>\n",
       "      <td>...</td>\n",
       "      <td>...</td>\n",
       "      <td>...</td>\n",
       "      <td>...</td>\n",
       "      <td>...</td>\n",
       "      <td>...</td>\n",
       "      <td>...</td>\n",
       "      <td>...</td>\n",
       "      <td>...</td>\n",
       "      <td>...</td>\n",
       "      <td>...</td>\n",
       "      <td>...</td>\n",
       "      <td>...</td>\n",
       "    </tr>\n",
       "    <tr>\n",
       "      <th>2303561</th>\n",
       "      <td>2303562</td>\n",
       "      <td>JONES</td>\n",
       "      <td>2020</td>\n",
       "      <td>6/5/2020</td>\n",
       "      <td>1741</td>\n",
       "      <td>Natural</td>\n",
       "      <td>Natural</td>\n",
       "      <td>1.00</td>\n",
       "      <td>B</td>\n",
       "      <td>MISSING/NOT SPECIFIED</td>\n",
       "      <td>None</td>\n",
       "      <td>None</td>\n",
       "      <td>39.037890</td>\n",
       "      <td>-108.959500</td>\n",
       "      <td>CO</td>\n",
       "      <td>None</td>\n",
       "    </tr>\n",
       "    <tr>\n",
       "      <th>2303562</th>\n",
       "      <td>2303563</td>\n",
       "      <td>POWER</td>\n",
       "      <td>2020</td>\n",
       "      <td>7/11/2020</td>\n",
       "      <td>1958</td>\n",
       "      <td>Missing data/not specified/undetermined</td>\n",
       "      <td>Missing data/not specified/undetermined</td>\n",
       "      <td>100.00</td>\n",
       "      <td>D</td>\n",
       "      <td>Private</td>\n",
       "      <td>None</td>\n",
       "      <td></td>\n",
       "      <td>37.148611</td>\n",
       "      <td>-119.503056</td>\n",
       "      <td>CA</td>\n",
       "      <td>Madera</td>\n",
       "    </tr>\n",
       "    <tr>\n",
       "      <th>2303563</th>\n",
       "      <td>2303564</td>\n",
       "      <td>12 MILE</td>\n",
       "      <td>2020</td>\n",
       "      <td>8/27/2020</td>\n",
       "      <td>1911</td>\n",
       "      <td>Natural</td>\n",
       "      <td>Natural</td>\n",
       "      <td>50.00</td>\n",
       "      <td>C</td>\n",
       "      <td>MISSING/NOT SPECIFIED</td>\n",
       "      <td>None</td>\n",
       "      <td>None</td>\n",
       "      <td>46.151370</td>\n",
       "      <td>-114.442800</td>\n",
       "      <td>MT</td>\n",
       "      <td>None</td>\n",
       "    </tr>\n",
       "    <tr>\n",
       "      <th>2303564</th>\n",
       "      <td>2303565</td>\n",
       "      <td>TAYLOR POND</td>\n",
       "      <td>2020</td>\n",
       "      <td>8/17/2020</td>\n",
       "      <td>0755</td>\n",
       "      <td>Natural</td>\n",
       "      <td>Natural</td>\n",
       "      <td>24892.00</td>\n",
       "      <td>G</td>\n",
       "      <td>UNDEFINED FEDERAL</td>\n",
       "      <td>8/20/2020</td>\n",
       "      <td>1900</td>\n",
       "      <td>46.670340</td>\n",
       "      <td>-120.114500</td>\n",
       "      <td>WA</td>\n",
       "      <td>Yakima</td>\n",
       "    </tr>\n",
       "    <tr>\n",
       "      <th>2303565</th>\n",
       "      <td>2303566</td>\n",
       "      <td>MIDDLE MOUNTAIN</td>\n",
       "      <td>2020</td>\n",
       "      <td>11/20/2020</td>\n",
       "      <td>1110</td>\n",
       "      <td>Human</td>\n",
       "      <td>Missing data/not specified/undetermined</td>\n",
       "      <td>105.00</td>\n",
       "      <td>D</td>\n",
       "      <td>UNDEFINED FEDERAL</td>\n",
       "      <td>11/22/2020</td>\n",
       "      <td>1223</td>\n",
       "      <td>38.578900</td>\n",
       "      <td>-79.148450</td>\n",
       "      <td>VA</td>\n",
       "      <td>Rockingham</td>\n",
       "    </tr>\n",
       "  </tbody>\n",
       "</table>\n",
       "<p>2303566 rows × 16 columns</p>\n",
       "</div>"
      ],
      "text/plain": [
       "         OBJECTID        FIRE_NAME  FIRE_YEAR DISCOVERY_DATE DISCOVERY_TIME  \\\n",
       "0               1         FOUNTAIN       2005       2/2/2005           1300   \n",
       "1               2           PIGEON       2004      5/12/2004           0845   \n",
       "2               3            SLACK       2004      5/31/2004           1921   \n",
       "3               4             DEER       2004      6/28/2004           1600   \n",
       "4               5         STEVENOT       2004      6/28/2004           1600   \n",
       "...           ...              ...        ...            ...            ...   \n",
       "2303561   2303562            JONES       2020       6/5/2020           1741   \n",
       "2303562   2303563            POWER       2020      7/11/2020           1958   \n",
       "2303563   2303564          12 MILE       2020      8/27/2020           1911   \n",
       "2303564   2303565      TAYLOR POND       2020      8/17/2020           0755   \n",
       "2303565   2303566  MIDDLE MOUNTAIN       2020     11/20/2020           1110   \n",
       "\n",
       "                       NWCG_CAUSE_CLASSIFICATION  \\\n",
       "0                                          Human   \n",
       "1                                        Natural   \n",
       "2                                          Human   \n",
       "3                                        Natural   \n",
       "4                                        Natural   \n",
       "...                                          ...   \n",
       "2303561                                  Natural   \n",
       "2303562  Missing data/not specified/undetermined   \n",
       "2303563                                  Natural   \n",
       "2303564                                  Natural   \n",
       "2303565                                    Human   \n",
       "\n",
       "                                 NWCG_GENERAL_CAUSE  FIRE_SIZE  \\\n",
       "0        Power generation/transmission/distribution       0.10   \n",
       "1                                           Natural       0.25   \n",
       "2                           Debris and open burning       0.10   \n",
       "3                                           Natural       0.10   \n",
       "4                                           Natural       0.10   \n",
       "...                                             ...        ...   \n",
       "2303561                                     Natural       1.00   \n",
       "2303562     Missing data/not specified/undetermined     100.00   \n",
       "2303563                                     Natural      50.00   \n",
       "2303564                                     Natural   24892.00   \n",
       "2303565     Missing data/not specified/undetermined     105.00   \n",
       "\n",
       "        FIRE_SIZE_CLASS            OWNER_DESCR   CONT_DATE CONT_TIME  \\\n",
       "0                     A                   USFS    2/2/2005      1730   \n",
       "1                     A                   USFS   5/12/2004      1530   \n",
       "2                     A       STATE OR PRIVATE   5/31/2004      2024   \n",
       "3                     A                   USFS    7/3/2004      1400   \n",
       "4                     A                   USFS    7/3/2004      1200   \n",
       "...                 ...                    ...         ...       ...   \n",
       "2303561               B  MISSING/NOT SPECIFIED        None      None   \n",
       "2303562               D                Private        None             \n",
       "2303563               C  MISSING/NOT SPECIFIED        None      None   \n",
       "2303564               G      UNDEFINED FEDERAL   8/20/2020      1900   \n",
       "2303565               D      UNDEFINED FEDERAL  11/22/2020      1223   \n",
       "\n",
       "          LATITUDE   LONGITUDE STATE      COUNTY  \n",
       "0        40.036944 -121.005833    CA          63  \n",
       "1        38.933056 -120.404444    CA          61  \n",
       "2        38.984167 -120.735556    CA          17  \n",
       "3        38.559167 -119.913333    CA           3  \n",
       "4        38.559167 -119.933056    CA           3  \n",
       "...            ...         ...   ...         ...  \n",
       "2303561  39.037890 -108.959500    CO        None  \n",
       "2303562  37.148611 -119.503056    CA      Madera  \n",
       "2303563  46.151370 -114.442800    MT        None  \n",
       "2303564  46.670340 -120.114500    WA      Yakima  \n",
       "2303565  38.578900  -79.148450    VA  Rockingham  \n",
       "\n",
       "[2303566 rows x 16 columns]"
      ]
     },
     "execution_count": 13,
     "metadata": {},
     "output_type": "execute_result"
    }
   ],
   "source": [
    "fires_table"
   ]
  },
  {
   "cell_type": "markdown",
   "id": "76f5bc91",
   "metadata": {},
   "source": [
    "Let's check for empty values for each column in the dataframe:"
   ]
  },
  {
   "cell_type": "code",
   "execution_count": 14,
   "id": "174fb185",
   "metadata": {},
   "outputs": [
    {
     "data": {
      "text/plain": [
       "OBJECTID                          0\n",
       "FIRE_NAME                    964444\n",
       "FIRE_YEAR                         0\n",
       "DISCOVERY_DATE                    0\n",
       "DISCOVERY_TIME               789095\n",
       "NWCG_CAUSE_CLASSIFICATION         0\n",
       "NWCG_GENERAL_CAUSE                0\n",
       "FIRE_SIZE                         0\n",
       "FIRE_SIZE_CLASS                   0\n",
       "OWNER_DESCR                       0\n",
       "CONT_DATE                    894813\n",
       "CONT_TIME                    989902\n",
       "LATITUDE                          0\n",
       "LONGITUDE                         0\n",
       "STATE                             0\n",
       "COUNTY                       665779\n",
       "dtype: int64"
      ]
     },
     "execution_count": 14,
     "metadata": {},
     "output_type": "execute_result"
    }
   ],
   "source": [
    "# number of empty values per column\n",
    "fires_table.isna().sum()"
   ]
  },
  {
   "cell_type": "code",
   "execution_count": 15,
   "id": "3d8c5f80",
   "metadata": {},
   "outputs": [
    {
     "data": {
      "text/plain": [
       "OBJECTID                     0.000000\n",
       "FIRE_NAME                    0.418674\n",
       "FIRE_YEAR                    0.000000\n",
       "DISCOVERY_DATE               0.000000\n",
       "DISCOVERY_TIME               0.342554\n",
       "NWCG_CAUSE_CLASSIFICATION    0.000000\n",
       "NWCG_GENERAL_CAUSE           0.000000\n",
       "FIRE_SIZE                    0.000000\n",
       "FIRE_SIZE_CLASS              0.000000\n",
       "OWNER_DESCR                  0.000000\n",
       "CONT_DATE                    0.388447\n",
       "CONT_TIME                    0.429726\n",
       "LATITUDE                     0.000000\n",
       "LONGITUDE                    0.000000\n",
       "STATE                        0.000000\n",
       "COUNTY                       0.289021\n",
       "dtype: float64"
      ]
     },
     "execution_count": 15,
     "metadata": {},
     "output_type": "execute_result"
    }
   ],
   "source": [
    "# frequency of empty values per column\n",
    "fires_table.isna().sum() / len(fires_table)"
   ]
  },
  {
   "cell_type": "markdown",
   "id": "4482c098",
   "metadata": {},
   "source": [
    "This already gives us some interesting insights.\n",
    "\n",
    "`FIRE_NAME` (NA -> 'Unnamed') <br>\n",
    "Of the 2.3 million wildfires, 41.86% of them are unnamed wildfires (964,444 total). We could potentially see if there is a correlation between fire size and if a wildfire has a name. This could be a good goal if I decide to further work on this project. We'll keep this column for now and replace the empty values with 'Unnamed'. We should also change the names from CAPSLOCK to Title Case.\n",
    "\n",
    "`DISCOVERY_TIME` (Drop) <br>\n",
    "There are also 789,095 wildfires that have an unknown discovery time (34.25%). Of these wildfires, we could possibly see if the cause is known or unknown. If I was involved with the US Department of Agriculture, I could be interested into looking where and why these fields are unknown. I'll drop this column because this metric is too granular.\n",
    "\n",
    "`CONT_DATE` and `CONT_TIME` (Drop) <br>\n",
    "This shows that 38.84% and 42.97% (for date and time respectively) of wildfires have unknown times when the wildfire was contained. For the purposes of this analysis I will drop these columns.\n",
    "\n",
    "`COUNTY` (Drop) <br>\n",
    "It also looks like the `COUNTY` column is contains both numerical and categorial (string) values for the county, as well as 665,779 empty values. For the sake of this analysis, I decide to drop this column since `LATITUDE` and `LONGITUDE` would be sufficient enough to plot.\n",
    "\n",
    "We should have 12 columns total."
   ]
  },
  {
   "cell_type": "markdown",
   "id": "72450c3b",
   "metadata": {},
   "source": [
    "We'll accomplish this below:"
   ]
  },
  {
   "cell_type": "code",
   "execution_count": 47,
   "id": "f0209d1a",
   "metadata": {
    "scrolled": true
   },
   "outputs": [],
   "source": [
    "# fill empty values in FIRE_NAME col\n",
    "fires_table['FIRE_NAME'] = fires_table['FIRE_NAME'].fillna('Unnamed')\n",
    "fires_table['FIRE_NAME'] = fires_table['FIRE_NAME'].str.title()"
   ]
  },
  {
   "cell_type": "code",
   "execution_count": 17,
   "id": "cb9dcf79",
   "metadata": {},
   "outputs": [],
   "source": [
    "# drop columns\n",
    "fires_table = fires_table.drop(['DISCOVERY_TIME', 'CONT_DATE', 'CONT_TIME', 'COUNTY'], axis=1)"
   ]
  },
  {
   "cell_type": "markdown",
   "id": "63b597f0",
   "metadata": {},
   "source": [
    "Let's also sort the table by `DISCOVERY_DATE` (old to new)"
   ]
  },
  {
   "cell_type": "code",
   "execution_count": 18,
   "id": "ba63a2fb",
   "metadata": {},
   "outputs": [
    {
     "data": {
      "text/html": [
       "<div>\n",
       "<style scoped>\n",
       "    .dataframe tbody tr th:only-of-type {\n",
       "        vertical-align: middle;\n",
       "    }\n",
       "\n",
       "    .dataframe tbody tr th {\n",
       "        vertical-align: top;\n",
       "    }\n",
       "\n",
       "    .dataframe thead th {\n",
       "        text-align: right;\n",
       "    }\n",
       "</style>\n",
       "<table border=\"1\" class=\"dataframe\">\n",
       "  <thead>\n",
       "    <tr style=\"text-align: right;\">\n",
       "      <th></th>\n",
       "      <th>OBJECTID</th>\n",
       "      <th>FIRE_NAME</th>\n",
       "      <th>FIRE_YEAR</th>\n",
       "      <th>DISCOVERY_DATE</th>\n",
       "      <th>NWCG_CAUSE_CLASSIFICATION</th>\n",
       "      <th>NWCG_GENERAL_CAUSE</th>\n",
       "      <th>FIRE_SIZE</th>\n",
       "      <th>FIRE_SIZE_CLASS</th>\n",
       "      <th>OWNER_DESCR</th>\n",
       "      <th>LATITUDE</th>\n",
       "      <th>LONGITUDE</th>\n",
       "      <th>STATE</th>\n",
       "    </tr>\n",
       "  </thead>\n",
       "  <tbody>\n",
       "    <tr>\n",
       "      <th>744296</th>\n",
       "      <td>744297</td>\n",
       "      <td>Unnamed</td>\n",
       "      <td>1992</td>\n",
       "      <td>1/1/1992</td>\n",
       "      <td>Missing data/not specified/undetermined</td>\n",
       "      <td>Missing data/not specified/undetermined</td>\n",
       "      <td>1.0</td>\n",
       "      <td>B</td>\n",
       "      <td>MISSING/NOT SPECIFIED</td>\n",
       "      <td>33.058333</td>\n",
       "      <td>-79.979167</td>\n",
       "      <td>SC</td>\n",
       "    </tr>\n",
       "    <tr>\n",
       "      <th>745557</th>\n",
       "      <td>745558</td>\n",
       "      <td>Unnamed</td>\n",
       "      <td>1992</td>\n",
       "      <td>1/1/1992</td>\n",
       "      <td>Missing data/not specified/undetermined</td>\n",
       "      <td>Missing data/not specified/undetermined</td>\n",
       "      <td>0.2</td>\n",
       "      <td>A</td>\n",
       "      <td>MISSING/NOT SPECIFIED</td>\n",
       "      <td>33.358333</td>\n",
       "      <td>-81.137500</td>\n",
       "      <td>SC</td>\n",
       "    </tr>\n",
       "    <tr>\n",
       "      <th>745589</th>\n",
       "      <td>745590</td>\n",
       "      <td>Unnamed</td>\n",
       "      <td>1992</td>\n",
       "      <td>1/1/1992</td>\n",
       "      <td>Missing data/not specified/undetermined</td>\n",
       "      <td>Missing data/not specified/undetermined</td>\n",
       "      <td>0.6</td>\n",
       "      <td>B</td>\n",
       "      <td>MISSING/NOT SPECIFIED</td>\n",
       "      <td>33.275000</td>\n",
       "      <td>-81.258333</td>\n",
       "      <td>SC</td>\n",
       "    </tr>\n",
       "    <tr>\n",
       "      <th>745851</th>\n",
       "      <td>745852</td>\n",
       "      <td>Unnamed</td>\n",
       "      <td>1992</td>\n",
       "      <td>1/1/1992</td>\n",
       "      <td>Missing data/not specified/undetermined</td>\n",
       "      <td>Missing data/not specified/undetermined</td>\n",
       "      <td>4.0</td>\n",
       "      <td>B</td>\n",
       "      <td>MISSING/NOT SPECIFIED</td>\n",
       "      <td>33.379167</td>\n",
       "      <td>-80.620833</td>\n",
       "      <td>SC</td>\n",
       "    </tr>\n",
       "    <tr>\n",
       "      <th>746120</th>\n",
       "      <td>746121</td>\n",
       "      <td>Unnamed</td>\n",
       "      <td>1992</td>\n",
       "      <td>1/1/1992</td>\n",
       "      <td>Missing data/not specified/undetermined</td>\n",
       "      <td>Missing data/not specified/undetermined</td>\n",
       "      <td>2.0</td>\n",
       "      <td>B</td>\n",
       "      <td>MISSING/NOT SPECIFIED</td>\n",
       "      <td>32.841667</td>\n",
       "      <td>-80.641667</td>\n",
       "      <td>SC</td>\n",
       "    </tr>\n",
       "    <tr>\n",
       "      <th>...</th>\n",
       "      <td>...</td>\n",
       "      <td>...</td>\n",
       "      <td>...</td>\n",
       "      <td>...</td>\n",
       "      <td>...</td>\n",
       "      <td>...</td>\n",
       "      <td>...</td>\n",
       "      <td>...</td>\n",
       "      <td>...</td>\n",
       "      <td>...</td>\n",
       "      <td>...</td>\n",
       "      <td>...</td>\n",
       "    </tr>\n",
       "    <tr>\n",
       "      <th>2297798</th>\n",
       "      <td>2297799</td>\n",
       "      <td>Ruby Ridge</td>\n",
       "      <td>2020</td>\n",
       "      <td>9/9/2020</td>\n",
       "      <td>Natural</td>\n",
       "      <td>Natural</td>\n",
       "      <td>0.1</td>\n",
       "      <td>A</td>\n",
       "      <td>PRIVATE</td>\n",
       "      <td>48.622886</td>\n",
       "      <td>-116.483314</td>\n",
       "      <td>ID</td>\n",
       "    </tr>\n",
       "    <tr>\n",
       "      <th>2283946</th>\n",
       "      <td>2283947</td>\n",
       "      <td>Davis 3</td>\n",
       "      <td>2020</td>\n",
       "      <td>9/9/2020</td>\n",
       "      <td>Human</td>\n",
       "      <td>Arson/incendiarism</td>\n",
       "      <td>11.1</td>\n",
       "      <td>C</td>\n",
       "      <td>USFS</td>\n",
       "      <td>39.881665</td>\n",
       "      <td>-120.507713</td>\n",
       "      <td>CA</td>\n",
       "    </tr>\n",
       "    <tr>\n",
       "      <th>2264628</th>\n",
       "      <td>2264629</td>\n",
       "      <td>Little Creek (1) (12)</td>\n",
       "      <td>2020</td>\n",
       "      <td>9/9/2020</td>\n",
       "      <td>Natural</td>\n",
       "      <td>Natural</td>\n",
       "      <td>7.0</td>\n",
       "      <td>B</td>\n",
       "      <td>STATE</td>\n",
       "      <td>30.414700</td>\n",
       "      <td>-82.640400</td>\n",
       "      <td>FL</td>\n",
       "    </tr>\n",
       "    <tr>\n",
       "      <th>2278140</th>\n",
       "      <td>2278141</td>\n",
       "      <td>Como St  Wild</td>\n",
       "      <td>2020</td>\n",
       "      <td>9/9/2020</td>\n",
       "      <td>Missing data/not specified/undetermined</td>\n",
       "      <td>Missing data/not specified/undetermined</td>\n",
       "      <td>1.0</td>\n",
       "      <td>B</td>\n",
       "      <td>MISSING/NOT SPECIFIED</td>\n",
       "      <td>33.606388</td>\n",
       "      <td>-117.269765</td>\n",
       "      <td>CA</td>\n",
       "    </tr>\n",
       "    <tr>\n",
       "      <th>2260567</th>\n",
       "      <td>2260568</td>\n",
       "      <td>7479</td>\n",
       "      <td>2020</td>\n",
       "      <td>9/9/2020</td>\n",
       "      <td>Human</td>\n",
       "      <td>Debris and open burning</td>\n",
       "      <td>2.0</td>\n",
       "      <td>B</td>\n",
       "      <td>PRIVATE</td>\n",
       "      <td>32.510361</td>\n",
       "      <td>-89.802150</td>\n",
       "      <td>MS</td>\n",
       "    </tr>\n",
       "  </tbody>\n",
       "</table>\n",
       "<p>2303566 rows × 12 columns</p>\n",
       "</div>"
      ],
      "text/plain": [
       "         OBJECTID              FIRE_NAME  FIRE_YEAR DISCOVERY_DATE  \\\n",
       "744296     744297                Unnamed       1992       1/1/1992   \n",
       "745557     745558                Unnamed       1992       1/1/1992   \n",
       "745589     745590                Unnamed       1992       1/1/1992   \n",
       "745851     745852                Unnamed       1992       1/1/1992   \n",
       "746120     746121                Unnamed       1992       1/1/1992   \n",
       "...           ...                    ...        ...            ...   \n",
       "2297798   2297799             Ruby Ridge       2020       9/9/2020   \n",
       "2283946   2283947                Davis 3       2020       9/9/2020   \n",
       "2264628   2264629  Little Creek (1) (12)       2020       9/9/2020   \n",
       "2278140   2278141          Como St  Wild       2020       9/9/2020   \n",
       "2260567   2260568                   7479       2020       9/9/2020   \n",
       "\n",
       "                       NWCG_CAUSE_CLASSIFICATION  \\\n",
       "744296   Missing data/not specified/undetermined   \n",
       "745557   Missing data/not specified/undetermined   \n",
       "745589   Missing data/not specified/undetermined   \n",
       "745851   Missing data/not specified/undetermined   \n",
       "746120   Missing data/not specified/undetermined   \n",
       "...                                          ...   \n",
       "2297798                                  Natural   \n",
       "2283946                                    Human   \n",
       "2264628                                  Natural   \n",
       "2278140  Missing data/not specified/undetermined   \n",
       "2260567                                    Human   \n",
       "\n",
       "                              NWCG_GENERAL_CAUSE  FIRE_SIZE FIRE_SIZE_CLASS  \\\n",
       "744296   Missing data/not specified/undetermined        1.0               B   \n",
       "745557   Missing data/not specified/undetermined        0.2               A   \n",
       "745589   Missing data/not specified/undetermined        0.6               B   \n",
       "745851   Missing data/not specified/undetermined        4.0               B   \n",
       "746120   Missing data/not specified/undetermined        2.0               B   \n",
       "...                                          ...        ...             ...   \n",
       "2297798                                  Natural        0.1               A   \n",
       "2283946                       Arson/incendiarism       11.1               C   \n",
       "2264628                                  Natural        7.0               B   \n",
       "2278140  Missing data/not specified/undetermined        1.0               B   \n",
       "2260567                  Debris and open burning        2.0               B   \n",
       "\n",
       "                   OWNER_DESCR   LATITUDE   LONGITUDE STATE  \n",
       "744296   MISSING/NOT SPECIFIED  33.058333  -79.979167    SC  \n",
       "745557   MISSING/NOT SPECIFIED  33.358333  -81.137500    SC  \n",
       "745589   MISSING/NOT SPECIFIED  33.275000  -81.258333    SC  \n",
       "745851   MISSING/NOT SPECIFIED  33.379167  -80.620833    SC  \n",
       "746120   MISSING/NOT SPECIFIED  32.841667  -80.641667    SC  \n",
       "...                        ...        ...         ...   ...  \n",
       "2297798                PRIVATE  48.622886 -116.483314    ID  \n",
       "2283946                   USFS  39.881665 -120.507713    CA  \n",
       "2264628                  STATE  30.414700  -82.640400    FL  \n",
       "2278140  MISSING/NOT SPECIFIED  33.606388 -117.269765    CA  \n",
       "2260567                PRIVATE  32.510361  -89.802150    MS  \n",
       "\n",
       "[2303566 rows x 12 columns]"
      ]
     },
     "execution_count": 18,
     "metadata": {},
     "output_type": "execute_result"
    }
   ],
   "source": [
    "fires_table = fires_table.sort_values(by='DISCOVERY_DATE')\n",
    "fires_table"
   ]
  },
  {
   "cell_type": "markdown",
   "id": "20f7fa99",
   "metadata": {},
   "source": [
    "## Data Analysis and Exploration"
   ]
  },
  {
   "cell_type": "markdown",
   "id": "856db891",
   "metadata": {},
   "source": [
    "### Question: Are Wildfires Becoming More Common?\n",
    "In order to determine if wildfires are becoming more common, I created a frequency table by `FIRE_YEAR` and the number of wildfires."
   ]
  },
  {
   "cell_type": "code",
   "execution_count": 19,
   "id": "50a118d7",
   "metadata": {},
   "outputs": [],
   "source": [
    "wildfire_freq_by_year_df = pd.DataFrame(fires_table['FIRE_YEAR'].value_counts()).sort_index()\n",
    "wildfire_freq_by_year_df = wildfire_freq_by_year_df.reset_index()\n",
    "wildfire_freq_by_year_df = wildfire_freq_by_year_df.rename(columns = {'index': 'FIRE_YEAR', 'FIRE_YEAR': 'FREQ'})"
   ]
  },
  {
   "cell_type": "code",
   "execution_count": 20,
   "id": "e394fe9a",
   "metadata": {},
   "outputs": [
    {
     "data": {
      "text/html": [
       "<div>\n",
       "<style scoped>\n",
       "    .dataframe tbody tr th:only-of-type {\n",
       "        vertical-align: middle;\n",
       "    }\n",
       "\n",
       "    .dataframe tbody tr th {\n",
       "        vertical-align: top;\n",
       "    }\n",
       "\n",
       "    .dataframe thead th {\n",
       "        text-align: right;\n",
       "    }\n",
       "</style>\n",
       "<table border=\"1\" class=\"dataframe\">\n",
       "  <thead>\n",
       "    <tr style=\"text-align: right;\">\n",
       "      <th></th>\n",
       "      <th>FIRE_YEAR</th>\n",
       "      <th>FREQ</th>\n",
       "    </tr>\n",
       "  </thead>\n",
       "  <tbody>\n",
       "    <tr>\n",
       "      <th>0</th>\n",
       "      <td>1992</td>\n",
       "      <td>67961</td>\n",
       "    </tr>\n",
       "    <tr>\n",
       "      <th>1</th>\n",
       "      <td>1993</td>\n",
       "      <td>61975</td>\n",
       "    </tr>\n",
       "    <tr>\n",
       "      <th>2</th>\n",
       "      <td>1994</td>\n",
       "      <td>75932</td>\n",
       "    </tr>\n",
       "    <tr>\n",
       "      <th>3</th>\n",
       "      <td>1995</td>\n",
       "      <td>71440</td>\n",
       "    </tr>\n",
       "    <tr>\n",
       "      <th>4</th>\n",
       "      <td>1996</td>\n",
       "      <td>75561</td>\n",
       "    </tr>\n",
       "    <tr>\n",
       "      <th>24</th>\n",
       "      <td>2016</td>\n",
       "      <td>81993</td>\n",
       "    </tr>\n",
       "    <tr>\n",
       "      <th>25</th>\n",
       "      <td>2017</td>\n",
       "      <td>82279</td>\n",
       "    </tr>\n",
       "    <tr>\n",
       "      <th>26</th>\n",
       "      <td>2018</td>\n",
       "      <td>80860</td>\n",
       "    </tr>\n",
       "    <tr>\n",
       "      <th>27</th>\n",
       "      <td>2019</td>\n",
       "      <td>63557</td>\n",
       "    </tr>\n",
       "    <tr>\n",
       "      <th>28</th>\n",
       "      <td>2020</td>\n",
       "      <td>73262</td>\n",
       "    </tr>\n",
       "  </tbody>\n",
       "</table>\n",
       "</div>"
      ],
      "text/plain": [
       "    FIRE_YEAR   FREQ\n",
       "0        1992  67961\n",
       "1        1993  61975\n",
       "2        1994  75932\n",
       "3        1995  71440\n",
       "4        1996  75561\n",
       "24       2016  81993\n",
       "25       2017  82279\n",
       "26       2018  80860\n",
       "27       2019  63557\n",
       "28       2020  73262"
      ]
     },
     "execution_count": 20,
     "metadata": {},
     "output_type": "execute_result"
    }
   ],
   "source": [
    "# show head and tail\n",
    "pd.concat([wildfire_freq_by_year_df.head(5), wildfire_freq_by_year_df.tail(5)])"
   ]
  },
  {
   "cell_type": "markdown",
   "id": "4f626683",
   "metadata": {},
   "source": [
    "Next, I plot a line graph of the wildfire occurrences over time (based on the table above): "
   ]
  },
  {
   "cell_type": "code",
   "execution_count": 21,
   "id": "6618042d",
   "metadata": {},
   "outputs": [
    {
     "data": {
      "image/png": "[encoded data removed]",
      "text/plain": [
       "<Figure size 720x480 with 1 Axes>"
      ]
     },
     "metadata": {
      "needs_background": "light"
     },
     "output_type": "display_data"
    }
   ],
   "source": [
    "plt.plot(wildfire_freq_by_year_df['FIRE_YEAR'], wildfire_freq_by_year_df['FREQ'], marker='o', color='red')\n",
    "\n",
    "plt.xlabel('Year')\n",
    "plt.ylabel('Number of Wildfires')\n",
    "plt.title('Number of Wildfires per Year')\n",
    "\n",
    "plt.gcf().set_dpi(120)\n",
    "\n",
    "plt.show()"
   ]
  },
  {
   "cell_type": "markdown",
   "id": "61ab5c26",
   "metadata": {},
   "source": [
    "Here's the same plot but with a regression line."
   ]
  },
  {
   "cell_type": "code",
   "execution_count": 22,
   "id": "253db82a",
   "metadata": {},
   "outputs": [
    {
     "data": {
      "image/png": "[encoded data removed]",
      "text/plain": [
       "<Figure size 720x480 with 1 Axes>"
      ]
     },
     "metadata": {
      "needs_background": "light"
     },
     "output_type": "display_data"
    }
   ],
   "source": [
    "# copy above graph\n",
    "plt.plot(wildfire_freq_by_year_df['FIRE_YEAR'], wildfire_freq_by_year_df['FREQ'], marker='o', color='red')\n",
    "\n",
    "# calculate coefficients of regression line\n",
    "coefficients = np.polyfit(wildfire_freq_by_year_df['FIRE_YEAR'], wildfire_freq_by_year_df['FREQ'], 1)\n",
    "slope, intercept = coefficients\n",
    "\n",
    "# create regression line\n",
    "regression_line = slope * wildfire_freq_by_year_df['FIRE_YEAR'] + intercept\n",
    "\n",
    "# plot regression line\n",
    "plt.plot(wildfire_freq_by_year_df['FIRE_YEAR'], regression_line, color='orange', label=f'Regression Line: y = {slope:.2f}x + {intercept:.2f}')\n",
    "\n",
    "plt.xlabel('Year')\n",
    "plt.ylabel('Number of Wildfires')\n",
    "plt.title('Number of Wildfires per Year')\n",
    "plt.legend()\n",
    "\n",
    "plt.gcf().set_dpi(120)\n",
    "\n",
    "plt.show()"
   ]
  },
  {
   "cell_type": "markdown",
   "id": "7bb1401b",
   "metadata": {},
   "source": [
    "To determine how \"fit\" this regression line is, I calculate the correlation between the frequency and fire year.\n",
    "\n",
    "We should receive a correlation coefficient value between -1 and 1, where -1 indicates a perfect negative correlation, 1 indicates a perfect positive correlation, and 0 indicates no correlation."
   ]
  },
  {
   "cell_type": "code",
   "execution_count": 23,
   "id": "035b6dea",
   "metadata": {},
   "outputs": [
    {
     "name": "stdout",
     "output_type": "stream",
     "text": [
      "Correlation coefficient of the regression line: 0.12339\n"
     ]
    }
   ],
   "source": [
    "correlation_coefficient = np.corrcoef(wildfire_freq_by_year_df['FREQ'], regression_line)[0, 1]\n",
    "\n",
    "print(f\"Correlation coefficient of the regression line: {round(correlation_coefficient, 5)}\")"
   ]
  },
  {
   "cell_type": "markdown",
   "id": "40296258",
   "metadata": {},
   "source": [
    "Since the correlation of between these two variables ($.12$) is close to 0, there is a very weak positive correlation between the number of wildfires and years."
   ]
  },
  {
   "cell_type": "markdown",
   "id": "4a805e7c",
   "metadata": {},
   "source": [
    "### Result: Are Wildfires Becoming More Common?\n",
    "**No**, because there is a very weak positive correlation between the number of wildfires and wildfire years, we cannot say for certain that wildfires are becoming more common."
   ]
  },
  {
   "cell_type": "markdown",
   "id": "e99ebbe0",
   "metadata": {},
   "source": [
    "### Question: Are Wildfires Becoming Larger?\n",
    "Lets find the total sum of wildfire sizes in a given year and follow similar steps to the previous question.\n",
    "1. Create an aggregated table\n",
    "2. Plot the sum of wildfire sizes by year\n",
    "3. Add a line of best fit\n",
    "4. Calculate Correlation Coefficient"
   ]
  },
  {
   "cell_type": "markdown",
   "id": "f5b67462",
   "metadata": {},
   "source": [
    "Below is the aggregated table:"
   ]
  },
  {
   "cell_type": "code",
   "execution_count": 24,
   "id": "2a597873",
   "metadata": {},
   "outputs": [
    {
     "data": {
      "text/html": [
       "<div>\n",
       "<style scoped>\n",
       "    .dataframe tbody tr th:only-of-type {\n",
       "        vertical-align: middle;\n",
       "    }\n",
       "\n",
       "    .dataframe tbody tr th {\n",
       "        vertical-align: top;\n",
       "    }\n",
       "\n",
       "    .dataframe thead th {\n",
       "        text-align: right;\n",
       "    }\n",
       "</style>\n",
       "<table border=\"1\" class=\"dataframe\">\n",
       "  <thead>\n",
       "    <tr style=\"text-align: right;\">\n",
       "      <th></th>\n",
       "      <th>FIRE_YEAR</th>\n",
       "      <th>FIRE_SIZE</th>\n",
       "    </tr>\n",
       "  </thead>\n",
       "  <tbody>\n",
       "    <tr>\n",
       "      <th>0</th>\n",
       "      <td>1992</td>\n",
       "      <td>2.199923e+06</td>\n",
       "    </tr>\n",
       "    <tr>\n",
       "      <th>1</th>\n",
       "      <td>1993</td>\n",
       "      <td>2.191587e+06</td>\n",
       "    </tr>\n",
       "    <tr>\n",
       "      <th>2</th>\n",
       "      <td>1994</td>\n",
       "      <td>4.115582e+06</td>\n",
       "    </tr>\n",
       "    <tr>\n",
       "      <th>3</th>\n",
       "      <td>1995</td>\n",
       "      <td>2.049553e+06</td>\n",
       "    </tr>\n",
       "    <tr>\n",
       "      <th>4</th>\n",
       "      <td>1996</td>\n",
       "      <td>6.004833e+06</td>\n",
       "    </tr>\n",
       "    <tr>\n",
       "      <th>24</th>\n",
       "      <td>2016</td>\n",
       "      <td>5.362282e+06</td>\n",
       "    </tr>\n",
       "    <tr>\n",
       "      <th>25</th>\n",
       "      <td>2017</td>\n",
       "      <td>1.024566e+07</td>\n",
       "    </tr>\n",
       "    <tr>\n",
       "      <th>26</th>\n",
       "      <td>2018</td>\n",
       "      <td>8.243602e+06</td>\n",
       "    </tr>\n",
       "    <tr>\n",
       "      <th>27</th>\n",
       "      <td>2019</td>\n",
       "      <td>4.915668e+06</td>\n",
       "    </tr>\n",
       "    <tr>\n",
       "      <th>28</th>\n",
       "      <td>2020</td>\n",
       "      <td>1.049538e+07</td>\n",
       "    </tr>\n",
       "  </tbody>\n",
       "</table>\n",
       "</div>"
      ],
      "text/plain": [
       "    FIRE_YEAR     FIRE_SIZE\n",
       "0        1992  2.199923e+06\n",
       "1        1993  2.191587e+06\n",
       "2        1994  4.115582e+06\n",
       "3        1995  2.049553e+06\n",
       "4        1996  6.004833e+06\n",
       "24       2016  5.362282e+06\n",
       "25       2017  1.024566e+07\n",
       "26       2018  8.243602e+06\n",
       "27       2019  4.915668e+06\n",
       "28       2020  1.049538e+07"
      ]
     },
     "execution_count": 24,
     "metadata": {},
     "output_type": "execute_result"
    }
   ],
   "source": [
    "fire_size_by_year_df = fires_table.groupby('FIRE_YEAR').agg({'FIRE_SIZE': 'sum'}).reset_index()\n",
    "pd.concat([fire_size_by_year_df.head(5), fire_size_by_year_df.tail(5)])"
   ]
  },
  {
   "cell_type": "code",
   "execution_count": 25,
   "id": "191dd029",
   "metadata": {},
   "outputs": [
    {
     "data": {
      "image/png": "[encoded data removed]",
      "text/plain": [
       "<Figure size 720x480 with 1 Axes>"
      ]
     },
     "metadata": {
      "needs_background": "light"
     },
     "output_type": "display_data"
    }
   ],
   "source": [
    "plt.plot(fire_size_by_year_df['FIRE_YEAR'], fire_size_by_year_df['FIRE_SIZE'], marker='o', color='orange')\n",
    "\n",
    "plt.xlabel('Year')\n",
    "plt.ylabel('Total Wildfire Size in Acres')\n",
    "plt.title('Sum of Wildfire Sizes by Year')\n",
    "\n",
    "plt.gcf().set_dpi(120)\n",
    "\n",
    "plt.show()"
   ]
  },
  {
   "cell_type": "code",
   "execution_count": 26,
   "id": "c832985e",
   "metadata": {},
   "outputs": [
    {
     "data": {
      "image/png": "[encoded data removed]",
      "text/plain": [
       "<Figure size 720x480 with 1 Axes>"
      ]
     },
     "metadata": {
      "needs_background": "light"
     },
     "output_type": "display_data"
    }
   ],
   "source": [
    "# copy above graph\n",
    "plt.plot(fire_size_by_year_df['FIRE_YEAR'], fire_size_by_year_df['FIRE_SIZE'], marker='o', color='orange')\n",
    "\n",
    "# calculate coefficients of regression line\n",
    "coefficients = np.polyfit(fire_size_by_year_df['FIRE_YEAR'], fire_size_by_year_df['FIRE_SIZE'], 1)\n",
    "slope, intercept = coefficients\n",
    "\n",
    "# create regression line\n",
    "regression_line = slope * fire_size_by_year_df['FIRE_YEAR'] + intercept\n",
    "\n",
    "# plot regression line\n",
    "plt.plot(fire_size_by_year_df['FIRE_YEAR'], regression_line, color='red', label=f'Regression Line: y = {slope:.2f}x + {intercept:.2f}')\n",
    "\n",
    "plt.xlabel('Year')\n",
    "plt.ylabel('Total Wildfire Size in Acres')\n",
    "plt.title('Sum of Wildfire Sizes by Year')\n",
    "plt.legend()\n",
    "\n",
    "plt.gcf().set_dpi(120)\n",
    "\n",
    "plt.show()"
   ]
  },
  {
   "cell_type": "code",
   "execution_count": 27,
   "id": "47ccbc2f",
   "metadata": {},
   "outputs": [
    {
     "name": "stdout",
     "output_type": "stream",
     "text": [
      "Correlation coefficient of the regression line: 0.54821\n"
     ]
    }
   ],
   "source": [
    "correlation_coefficient = np.corrcoef(fire_size_by_year_df['FIRE_SIZE'], regression_line)[0, 1]\n",
    "\n",
    "print(f\"Correlation coefficient of the regression line: {round(correlation_coefficient, 5)}\")"
   ]
  },
  {
   "cell_type": "markdown",
   "id": "a8e23a86",
   "metadata": {},
   "source": [
    "Given that the correlation is $.54$, we can say that there is a moderate positive correlation between the total size of wildfires over time."
   ]
  },
  {
   "cell_type": "markdown",
   "id": "4475246b",
   "metadata": {},
   "source": [
    "### Result: Are Wildfires Becoming More Common?\n",
    "**Yes**, because there is a moderately positive correlation between the total size of wildfires in a given year, we can say for certain that wildfires are becoming larger over time."
   ]
  },
  {
   "cell_type": "markdown",
   "id": "740d2cfa",
   "metadata": {},
   "source": [
    "### Top 10 Largest US Wildfires since 1992"
   ]
  },
  {
   "cell_type": "code",
   "execution_count": 48,
   "id": "4a063742",
   "metadata": {},
   "outputs": [
    {
     "data": {
      "text/html": [
       "<div>\n",
       "<style scoped>\n",
       "    .dataframe tbody tr th:only-of-type {\n",
       "        vertical-align: middle;\n",
       "    }\n",
       "\n",
       "    .dataframe tbody tr th {\n",
       "        vertical-align: top;\n",
       "    }\n",
       "\n",
       "    .dataframe thead th {\n",
       "        text-align: right;\n",
       "    }\n",
       "</style>\n",
       "<table border=\"1\" class=\"dataframe\">\n",
       "  <thead>\n",
       "    <tr style=\"text-align: right;\">\n",
       "      <th></th>\n",
       "      <th>OBJECTID</th>\n",
       "      <th>FIRE_NAME</th>\n",
       "      <th>FIRE_YEAR</th>\n",
       "      <th>DISCOVERY_DATE</th>\n",
       "      <th>NWCG_CAUSE_CLASSIFICATION</th>\n",
       "      <th>NWCG_GENERAL_CAUSE</th>\n",
       "      <th>FIRE_SIZE</th>\n",
       "      <th>FIRE_SIZE_CLASS</th>\n",
       "      <th>OWNER_DESCR</th>\n",
       "      <th>LATITUDE</th>\n",
       "      <th>LONGITUDE</th>\n",
       "      <th>STATE</th>\n",
       "    </tr>\n",
       "  </thead>\n",
       "  <tbody>\n",
       "    <tr>\n",
       "      <th>2042980</th>\n",
       "      <td>2042981</td>\n",
       "      <td>Oks - Starbuck</td>\n",
       "      <td>2017</td>\n",
       "      <td>3/7/2017</td>\n",
       "      <td>Missing data/not specified/undetermined</td>\n",
       "      <td>Missing data/not specified/undetermined</td>\n",
       "      <td>662700.0</td>\n",
       "      <td>G</td>\n",
       "      <td>MISSING/NOT SPECIFIED</td>\n",
       "      <td>36.774470</td>\n",
       "      <td>-100.175200</td>\n",
       "      <td>OK</td>\n",
       "    </tr>\n",
       "    <tr>\n",
       "      <th>211267</th>\n",
       "      <td>211268</td>\n",
       "      <td>Inowak</td>\n",
       "      <td>1997</td>\n",
       "      <td>6/25/1997</td>\n",
       "      <td>Natural</td>\n",
       "      <td>Natural</td>\n",
       "      <td>606945.0</td>\n",
       "      <td>G</td>\n",
       "      <td>BLM</td>\n",
       "      <td>61.982700</td>\n",
       "      <td>-157.085700</td>\n",
       "      <td>AK</td>\n",
       "    </tr>\n",
       "    <tr>\n",
       "      <th>2284521</th>\n",
       "      <td>2284522</td>\n",
       "      <td>Doe</td>\n",
       "      <td>2020</td>\n",
       "      <td>8/16/2020</td>\n",
       "      <td>Natural</td>\n",
       "      <td>Natural</td>\n",
       "      <td>589368.0</td>\n",
       "      <td>G</td>\n",
       "      <td>USFS</td>\n",
       "      <td>39.765255</td>\n",
       "      <td>-122.672914</td>\n",
       "      <td>CA</td>\n",
       "    </tr>\n",
       "    <tr>\n",
       "      <th>1578390</th>\n",
       "      <td>1578391</td>\n",
       "      <td>Long Draw</td>\n",
       "      <td>2012</td>\n",
       "      <td>7/8/2012</td>\n",
       "      <td>Natural</td>\n",
       "      <td>Natural</td>\n",
       "      <td>558198.3</td>\n",
       "      <td>G</td>\n",
       "      <td>BLM</td>\n",
       "      <td>42.391894</td>\n",
       "      <td>-117.893687</td>\n",
       "      <td>OR</td>\n",
       "    </tr>\n",
       "    <tr>\n",
       "      <th>1458490</th>\n",
       "      <td>1458491</td>\n",
       "      <td>Wallow</td>\n",
       "      <td>2011</td>\n",
       "      <td>5/29/2011</td>\n",
       "      <td>Human</td>\n",
       "      <td>Recreation and ceremony</td>\n",
       "      <td>538049.0</td>\n",
       "      <td>G</td>\n",
       "      <td>USFS</td>\n",
       "      <td>33.606111</td>\n",
       "      <td>-109.449722</td>\n",
       "      <td>AZ</td>\n",
       "    </tr>\n",
       "    <tr>\n",
       "      <th>305530</th>\n",
       "      <td>305531</td>\n",
       "      <td>Boundary</td>\n",
       "      <td>2004</td>\n",
       "      <td>6/13/2004</td>\n",
       "      <td>Natural</td>\n",
       "      <td>Natural</td>\n",
       "      <td>537627.0</td>\n",
       "      <td>G</td>\n",
       "      <td>STATE</td>\n",
       "      <td>65.266300</td>\n",
       "      <td>-146.885800</td>\n",
       "      <td>AK</td>\n",
       "    </tr>\n",
       "    <tr>\n",
       "      <th>1214259</th>\n",
       "      <td>1214260</td>\n",
       "      <td>Minto Flats South</td>\n",
       "      <td>2009</td>\n",
       "      <td>6/21/2009</td>\n",
       "      <td>Natural</td>\n",
       "      <td>Natural</td>\n",
       "      <td>517078.0</td>\n",
       "      <td>G</td>\n",
       "      <td>TRIBAL</td>\n",
       "      <td>64.746700</td>\n",
       "      <td>-149.504700</td>\n",
       "      <td>AK</td>\n",
       "    </tr>\n",
       "    <tr>\n",
       "      <th>153680</th>\n",
       "      <td>153681</td>\n",
       "      <td>Biscuit</td>\n",
       "      <td>2002</td>\n",
       "      <td>7/13/2002</td>\n",
       "      <td>Natural</td>\n",
       "      <td>Natural</td>\n",
       "      <td>499945.0</td>\n",
       "      <td>G</td>\n",
       "      <td>USFS</td>\n",
       "      <td>42.038889</td>\n",
       "      <td>-123.911667</td>\n",
       "      <td>OR</td>\n",
       "    </tr>\n",
       "    <tr>\n",
       "      <th>305629</th>\n",
       "      <td>305630</td>\n",
       "      <td>Dall City</td>\n",
       "      <td>2004</td>\n",
       "      <td>7/6/2004</td>\n",
       "      <td>Natural</td>\n",
       "      <td>Natural</td>\n",
       "      <td>483280.0</td>\n",
       "      <td>G</td>\n",
       "      <td>FWS</td>\n",
       "      <td>66.302900</td>\n",
       "      <td>-149.884300</td>\n",
       "      <td>AK</td>\n",
       "    </tr>\n",
       "    <tr>\n",
       "      <th>352695</th>\n",
       "      <td>352696</td>\n",
       "      <td>Hwy 152</td>\n",
       "      <td>2006</td>\n",
       "      <td>3/12/2006</td>\n",
       "      <td>Human</td>\n",
       "      <td>Missing data/not specified/undetermined</td>\n",
       "      <td>479549.0</td>\n",
       "      <td>G</td>\n",
       "      <td>PRIVATE</td>\n",
       "      <td>35.667800</td>\n",
       "      <td>-101.370800</td>\n",
       "      <td>TX</td>\n",
       "    </tr>\n",
       "  </tbody>\n",
       "</table>\n",
       "</div>"
      ],
      "text/plain": [
       "         OBJECTID          FIRE_NAME  FIRE_YEAR DISCOVERY_DATE  \\\n",
       "2042980   2042981     Oks - Starbuck       2017       3/7/2017   \n",
       "211267     211268             Inowak       1997      6/25/1997   \n",
       "2284521   2284522                Doe       2020      8/16/2020   \n",
       "1578390   1578391          Long Draw       2012       7/8/2012   \n",
       "1458490   1458491             Wallow       2011      5/29/2011   \n",
       "305530     305531           Boundary       2004      6/13/2004   \n",
       "1214259   1214260  Minto Flats South       2009      6/21/2009   \n",
       "153680     153681            Biscuit       2002      7/13/2002   \n",
       "305629     305630          Dall City       2004       7/6/2004   \n",
       "352695     352696            Hwy 152       2006      3/12/2006   \n",
       "\n",
       "                       NWCG_CAUSE_CLASSIFICATION  \\\n",
       "2042980  Missing data/not specified/undetermined   \n",
       "211267                                   Natural   \n",
       "2284521                                  Natural   \n",
       "1578390                                  Natural   \n",
       "1458490                                    Human   \n",
       "305530                                   Natural   \n",
       "1214259                                  Natural   \n",
       "153680                                   Natural   \n",
       "305629                                   Natural   \n",
       "352695                                     Human   \n",
       "\n",
       "                              NWCG_GENERAL_CAUSE  FIRE_SIZE FIRE_SIZE_CLASS  \\\n",
       "2042980  Missing data/not specified/undetermined   662700.0               G   \n",
       "211267                                   Natural   606945.0               G   \n",
       "2284521                                  Natural   589368.0               G   \n",
       "1578390                                  Natural   558198.3               G   \n",
       "1458490                  Recreation and ceremony   538049.0               G   \n",
       "305530                                   Natural   537627.0               G   \n",
       "1214259                                  Natural   517078.0               G   \n",
       "153680                                   Natural   499945.0               G   \n",
       "305629                                   Natural   483280.0               G   \n",
       "352695   Missing data/not specified/undetermined   479549.0               G   \n",
       "\n",
       "                   OWNER_DESCR   LATITUDE   LONGITUDE STATE  \n",
       "2042980  MISSING/NOT SPECIFIED  36.774470 -100.175200    OK  \n",
       "211267                     BLM  61.982700 -157.085700    AK  \n",
       "2284521                   USFS  39.765255 -122.672914    CA  \n",
       "1578390                    BLM  42.391894 -117.893687    OR  \n",
       "1458490                   USFS  33.606111 -109.449722    AZ  \n",
       "305530                   STATE  65.266300 -146.885800    AK  \n",
       "1214259                 TRIBAL  64.746700 -149.504700    AK  \n",
       "153680                    USFS  42.038889 -123.911667    OR  \n",
       "305629                     FWS  66.302900 -149.884300    AK  \n",
       "352695                 PRIVATE  35.667800 -101.370800    TX  "
      ]
     },
     "execution_count": 48,
     "metadata": {},
     "output_type": "execute_result"
    }
   ],
   "source": [
    "fires_table.sort_values(by='FIRE_SIZE', ascending=False).head(10)"
   ]
  },
  {
   "cell_type": "markdown",
   "id": "30deaaee",
   "metadata": {},
   "source": [
    "### Top Five States with Wildfires"
   ]
  },
  {
   "cell_type": "code",
   "execution_count": 29,
   "id": "522c3a51",
   "metadata": {},
   "outputs": [
    {
     "data": {
      "text/html": [
       "<div>\n",
       "<style scoped>\n",
       "    .dataframe tbody tr th:only-of-type {\n",
       "        vertical-align: middle;\n",
       "    }\n",
       "\n",
       "    .dataframe tbody tr th {\n",
       "        vertical-align: top;\n",
       "    }\n",
       "\n",
       "    .dataframe thead th {\n",
       "        text-align: right;\n",
       "    }\n",
       "</style>\n",
       "<table border=\"1\" class=\"dataframe\">\n",
       "  <thead>\n",
       "    <tr style=\"text-align: right;\">\n",
       "      <th></th>\n",
       "      <th>State</th>\n",
       "      <th>Wildfire Count</th>\n",
       "    </tr>\n",
       "  </thead>\n",
       "  <tbody>\n",
       "    <tr>\n",
       "      <th>0</th>\n",
       "      <td>AK</td>\n",
       "      <td>15195</td>\n",
       "    </tr>\n",
       "    <tr>\n",
       "      <th>1</th>\n",
       "      <td>AL</td>\n",
       "      <td>74833</td>\n",
       "    </tr>\n",
       "    <tr>\n",
       "      <th>2</th>\n",
       "      <td>AR</td>\n",
       "      <td>37947</td>\n",
       "    </tr>\n",
       "    <tr>\n",
       "      <th>3</th>\n",
       "      <td>AZ</td>\n",
       "      <td>104956</td>\n",
       "    </tr>\n",
       "    <tr>\n",
       "      <th>4</th>\n",
       "      <td>CA</td>\n",
       "      <td>251881</td>\n",
       "    </tr>\n",
       "  </tbody>\n",
       "</table>\n",
       "</div>"
      ],
      "text/plain": [
       "  State  Wildfire Count\n",
       "0    AK           15195\n",
       "1    AL           74833\n",
       "2    AR           37947\n",
       "3    AZ          104956\n",
       "4    CA          251881"
      ]
     },
     "execution_count": 29,
     "metadata": {},
     "output_type": "execute_result"
    }
   ],
   "source": [
    "state_wildfire_freq_df = pd.DataFrame(fires_table.groupby(['STATE']).size()).reset_index()\n",
    "state_wildfire_freq_df.columns = ['State', 'Wildfire Count']\n",
    "top_5_wildfire_states = state_wildfire_freq_df.head()\n",
    "top_5_wildfire_states"
   ]
  },
  {
   "cell_type": "code",
   "execution_count": 30,
   "id": "0b5a7815",
   "metadata": {},
   "outputs": [
    {
     "data": {
      "image/png": "[encoded data removed]",
      "text/plain": [
       "<Figure size 720x480 with 1 Axes>"
      ]
     },
     "metadata": {
      "needs_background": "light"
     },
     "output_type": "display_data"
    }
   ],
   "source": [
    "colors = plt.cm.hot(np.linspace(.8, .2, len(top_5_wildfire_states)))\n",
    "plt.bar(top_5_wildfire_states['State'], top_5_wildfire_states['Wildfire Count'], color=colors)\n",
    "\n",
    "plt.xlabel('State')\n",
    "plt.ylabel('Number of Wildfires')\n",
    "plt.title('Top Five States with Wildfires')\n",
    "\n",
    "# add labels above each bar\n",
    "for i, v in enumerate(top_5_wildfire_states['Wildfire Count']):\n",
    "    plt.text(i, v + 2500, str(v), ha='center', fontsize=7)\n",
    "\n",
    "plt.gcf().set_dpi(120)\n",
    "\n",
    "plt.show()"
   ]
  },
  {
   "cell_type": "markdown",
   "id": "a89f6550",
   "metadata": {},
   "source": [
    "### Number of Wildfires by `FIRE_SIZE_CLASS`"
   ]
  },
  {
   "cell_type": "markdown",
   "id": "c7b6050f",
   "metadata": {},
   "source": [
    "Below is a chart of how `FIRE_SIZE_CLASS` is classified:"
   ]
  },
  {
   "cell_type": "markdown",
   "id": "95301042",
   "metadata": {},
   "source": [
    "| FIRE_SIZE_CLASS               | FIRE_SIZE Bin (acres) |\n",
    "|---------------------------|------------|\n",
    "| A | 0.00 - 0.25 |\n",
    "| B | 0.26 - 9.9 |\n",
    "| C | 10.0 - 99.9 |\n",
    "| D | 100 - 299 |\n",
    "| E | 300 - 999 |\n",
    "| F | 1000 - 4999 |\n",
    "| G | 5000+ |"
   ]
  },
  {
   "cell_type": "code",
   "execution_count": 31,
   "id": "955e5d79",
   "metadata": {},
   "outputs": [
    {
     "data": {
      "text/html": [
       "<div>\n",
       "<style scoped>\n",
       "    .dataframe tbody tr th:only-of-type {\n",
       "        vertical-align: middle;\n",
       "    }\n",
       "\n",
       "    .dataframe tbody tr th {\n",
       "        vertical-align: top;\n",
       "    }\n",
       "\n",
       "    .dataframe thead th {\n",
       "        text-align: right;\n",
       "    }\n",
       "</style>\n",
       "<table border=\"1\" class=\"dataframe\">\n",
       "  <thead>\n",
       "    <tr style=\"text-align: right;\">\n",
       "      <th></th>\n",
       "      <th>FIRE_SIZE_CLASS</th>\n",
       "      <th>Wildfire Count</th>\n",
       "    </tr>\n",
       "  </thead>\n",
       "  <tbody>\n",
       "    <tr>\n",
       "      <th>0</th>\n",
       "      <td>A</td>\n",
       "      <td>876409</td>\n",
       "    </tr>\n",
       "    <tr>\n",
       "      <th>1</th>\n",
       "      <td>B</td>\n",
       "      <td>1104387</td>\n",
       "    </tr>\n",
       "    <tr>\n",
       "      <th>2</th>\n",
       "      <td>C</td>\n",
       "      <td>257096</td>\n",
       "    </tr>\n",
       "    <tr>\n",
       "      <th>3</th>\n",
       "      <td>D</td>\n",
       "      <td>34008</td>\n",
       "    </tr>\n",
       "    <tr>\n",
       "      <th>4</th>\n",
       "      <td>E</td>\n",
       "      <td>17191</td>\n",
       "    </tr>\n",
       "    <tr>\n",
       "      <th>5</th>\n",
       "      <td>F</td>\n",
       "      <td>9692</td>\n",
       "    </tr>\n",
       "    <tr>\n",
       "      <th>6</th>\n",
       "      <td>G</td>\n",
       "      <td>4783</td>\n",
       "    </tr>\n",
       "  </tbody>\n",
       "</table>\n",
       "</div>"
      ],
      "text/plain": [
       "  FIRE_SIZE_CLASS  Wildfire Count\n",
       "0               A          876409\n",
       "1               B         1104387\n",
       "2               C          257096\n",
       "3               D           34008\n",
       "4               E           17191\n",
       "5               F            9692\n",
       "6               G            4783"
      ]
     },
     "execution_count": 31,
     "metadata": {},
     "output_type": "execute_result"
    }
   ],
   "source": [
    "fire_size_class_freq = pd.DataFrame(fires_table.groupby(['FIRE_SIZE_CLASS']).size()).reset_index()\n",
    "fire_size_class_freq.columns = ['FIRE_SIZE_CLASS', 'Wildfire Count']\n",
    "fire_size_class_freq"
   ]
  },
  {
   "cell_type": "code",
   "execution_count": 32,
   "id": "430d6377",
   "metadata": {
    "scrolled": false
   },
   "outputs": [
    {
     "data": {
      "image/png": "[encoded data removed]",
      "text/plain": [
       "<Figure size 720x480 with 1 Axes>"
      ]
     },
     "metadata": {
      "needs_background": "light"
     },
     "output_type": "display_data"
    }
   ],
   "source": [
    "colors = plt.cm.hot(np.linspace(0.2, 0.8, len(fire_size_class_freq)))\n",
    "\n",
    "plt.bar(fire_size_class_freq['FIRE_SIZE_CLASS'], fire_size_class_freq['Wildfire Count'], color=colors)\n",
    "\n",
    "# add labels above each bar\n",
    "for i, v in enumerate(fire_size_class_freq['Wildfire Count']):\n",
    "    plt.text(i, v + 10000, str(v), ha='center', fontsize=7)\n",
    "\n",
    "plt.xlabel('Fire Size Class')\n",
    "plt.ylabel('Number of Wildfires')\n",
    "plt.title('Number of Wildfires by Fire Size Class')\n",
    "\n",
    "plt.gcf().set_dpi(120)\n",
    "\n",
    "plt.show()"
   ]
  },
  {
   "cell_type": "code",
   "execution_count": 45,
   "id": "20046c8f",
   "metadata": {},
   "outputs": [
    {
     "data": {
      "application/vnd.plotly.v1+json": {
       "config": {
        "plotlyServerURL": "https://plot.ly"
       },
       "data": [
        {
         "coloraxis": "coloraxis",
         "geo": "geo",
         "hovertemplate": "<b>%{hovertext}</b><br><br>State=%{location}<br>Wildfire Count=%{z}<extra></extra>",
         "hovertext": [
          "AK",
          "AL",
          "AR",
          "AZ",
          "CA",
          "CO",
          "CT",
          "DC",
          "DE",
          "FL",
          "GA",
          "HI",
          "IA",
          "ID",
          "IL",
          "IN",
          "KS",
          "KY",
          "LA",
          "MA",
          "MD",
          "ME",
          "MI",
          "MN",
          "MO",
          "MS",
          "MT",
          "NC",
          "ND",
          "NE",
          "NH",
          "NJ",
          "NM",
          "NV",
          "NY",
          "OH",
          "OK",
          "OR",
          "PA",
          "PR",
          "RI",
          "SC",
          "SD",
          "TN",
          "TX",
          "UT",
          "VA",
          "VT",
          "WA",
          "WI",
          "WV",
          "WY"
         ],
         "locationmode": "USA-states",
         "locations": [
          "AK",
          "AL",
          "AR",
          "AZ",
          "CA",
          "CO",
          "CT",
          "DC",
          "DE",
          "FL",
          "GA",
          "HI",
          "IA",
          "ID",
          "IL",
          "IN",
          "KS",
          "KY",
          "LA",
          "MA",
          "MD",
          "ME",
          "MI",
          "MN",
          "MO",
          "MS",
          "MT",
          "NC",
          "ND",
          "NE",
          "NH",
          "NJ",
          "NM",
          "NV",
          "NY",
          "OH",
          "OK",
          "OR",
          "PA",
          "PR",
          "RI",
          "SC",
          "SD",
          "TN",
          "TX",
          "UT",
          "VA",
          "VT",
          "WA",
          "WI",
          "WV",
          "WY"
         ],
         "name": "",
         "type": "choropleth",
         "z": [
          15195,
          74833,
          37947,
          104956,
          251881,
          68629,
          6714,
          83,
          198,
          103409,
          185040,
          9970,
          5672,
          42060,
          3022,
          2277,
          18576,
          30874,
          33129,
          8371,
          4157,
          16439,
          19127,
          51074,
          24510,
          84706,
          51960,
          130165,
          20020,
          11743,
          3081,
          32251,
          43578,
          20210,
          99142,
          5675,
          50189,
          71449,
          12861,
          22202,
          787,
          88052,
          36389,
          34531,
          180087,
          36982,
          24542,
          781,
          40776,
          38191,
          25064,
          20009
         ]
        }
       ],
       "layout": {
        "coloraxis": {
         "colorbar": {
          "title": {
           "text": "Wildfire Count"
          }
         },
         "colorscale": [
          [
           0,
           "rgb(255,255,204)"
          ],
          [
           0.125,
           "rgb(255,237,160)"
          ],
          [
           0.25,
           "rgb(254,217,118)"
          ],
          [
           0.375,
           "rgb(254,178,76)"
          ],
          [
           0.5,
           "rgb(253,141,60)"
          ],
          [
           0.625,
           "rgb(252,78,42)"
          ],
          [
           0.75,
           "rgb(227,26,28)"
          ],
          [
           0.875,
           "rgb(189,0,38)"
          ],
          [
           1,
           "rgb(128,0,38)"
          ]
         ]
        },
        "geo": {
         "center": {},
         "domain": {
          "x": [
           0,
           1
          ],
          "y": [
           0,
           1
          ]
         },
         "scope": "usa"
        },
        "legend": {
         "tracegroupgap": 0
        },
        "margin": {
         "t": 60
        },
        "template": {
         "data": {
          "bar": [
           {
            "error_x": {
             "color": "#2a3f5f"
            },
            "error_y": {
             "color": "#2a3f5f"
            },
            "marker": {
             "line": {
              "color": "#E5ECF6",
              "width": 0.5
             },
             "pattern": {
              "fillmode": "overlay",
              "size": 10,
              "solidity": 0.2
             }
            },
            "type": "bar"
           }
          ],
          "barpolar": [
           {
            "marker": {
             "line": {
              "color": "#E5ECF6",
              "width": 0.5
             },
             "pattern": {
              "fillmode": "overlay",
              "size": 10,
              "solidity": 0.2
             }
            },
            "type": "barpolar"
           }
          ],
          "carpet": [
           {
            "aaxis": {
             "endlinecolor": "#2a3f5f",
             "gridcolor": "white",
             "linecolor": "white",
             "minorgridcolor": "white",
             "startlinecolor": "#2a3f5f"
            },
            "baxis": {
             "endlinecolor": "#2a3f5f",
             "gridcolor": "white",
             "linecolor": "white",
             "minorgridcolor": "white",
             "startlinecolor": "#2a3f5f"
            },
            "type": "carpet"
           }
          ],
          "choropleth": [
           {
            "colorbar": {
             "outlinewidth": 0,
             "ticks": ""
            },
            "type": "choropleth"
           }
          ],
          "contour": [
           {
            "colorbar": {
             "outlinewidth": 0,
             "ticks": ""
            },
            "colorscale": [
             [
              0,
              "#0d0887"
             ],
             [
              0.1111111111111111,
              "#46039f"
             ],
             [
              0.2222222222222222,
              "#7201a8"
             ],
             [
              0.3333333333333333,
              "#9c179e"
             ],
             [
              0.4444444444444444,
              "#bd3786"
             ],
             [
              0.5555555555555556,
              "#d8576b"
             ],
             [
              0.6666666666666666,
              "#ed7953"
             ],
             [
              0.7777777777777778,
              "#fb9f3a"
             ],
             [
              0.8888888888888888,
              "#fdca26"
             ],
             [
              1,
              "#f0f921"
             ]
            ],
            "type": "contour"
           }
          ],
          "contourcarpet": [
           {
            "colorbar": {
             "outlinewidth": 0,
             "ticks": ""
            },
            "type": "contourcarpet"
           }
          ],
          "heatmap": [
           {
            "colorbar": {
             "outlinewidth": 0,
             "ticks": ""
            },
            "colorscale": [
             [
              0,
              "#0d0887"
             ],
             [
              0.1111111111111111,
              "#46039f"
             ],
             [
              0.2222222222222222,
              "#7201a8"
             ],
             [
              0.3333333333333333,
              "#9c179e"
             ],
             [
              0.4444444444444444,
              "#bd3786"
             ],
             [
              0.5555555555555556,
              "#d8576b"
             ],
             [
              0.6666666666666666,
              "#ed7953"
             ],
             [
              0.7777777777777778,
              "#fb9f3a"
             ],
             [
              0.8888888888888888,
              "#fdca26"
             ],
             [
              1,
              "#f0f921"
             ]
            ],
            "type": "heatmap"
           }
          ],
          "heatmapgl": [
           {
            "colorbar": {
             "outlinewidth": 0,
             "ticks": ""
            },
            "colorscale": [
             [
              0,
              "#0d0887"
             ],
             [
              0.1111111111111111,
              "#46039f"
             ],
             [
              0.2222222222222222,
              "#7201a8"
             ],
             [
              0.3333333333333333,
              "#9c179e"
             ],
             [
              0.4444444444444444,
              "#bd3786"
             ],
             [
              0.5555555555555556,
              "#d8576b"
             ],
             [
              0.6666666666666666,
              "#ed7953"
             ],
             [
              0.7777777777777778,
              "#fb9f3a"
             ],
             [
              0.8888888888888888,
              "#fdca26"
             ],
             [
              1,
              "#f0f921"
             ]
            ],
            "type": "heatmapgl"
           }
          ],
          "histogram": [
           {
            "marker": {
             "pattern": {
              "fillmode": "overlay",
              "size": 10,
              "solidity": 0.2
             }
            },
            "type": "histogram"
           }
          ],
          "histogram2d": [
           {
            "colorbar": {
             "outlinewidth": 0,
             "ticks": ""
            },
            "colorscale": [
             [
              0,
              "#0d0887"
             ],
             [
              0.1111111111111111,
              "#46039f"
             ],
             [
              0.2222222222222222,
              "#7201a8"
             ],
             [
              0.3333333333333333,
              "#9c179e"
             ],
             [
              0.4444444444444444,
              "#bd3786"
             ],
             [
              0.5555555555555556,
              "#d8576b"
             ],
             [
              0.6666666666666666,
              "#ed7953"
             ],
             [
              0.7777777777777778,
              "#fb9f3a"
             ],
             [
              0.8888888888888888,
              "#fdca26"
             ],
             [
              1,
              "#f0f921"
             ]
            ],
            "type": "histogram2d"
           }
          ],
          "histogram2dcontour": [
           {
            "colorbar": {
             "outlinewidth": 0,
             "ticks": ""
            },
            "colorscale": [
             [
              0,
              "#0d0887"
             ],
             [
              0.1111111111111111,
              "#46039f"
             ],
             [
              0.2222222222222222,
              "#7201a8"
             ],
             [
              0.3333333333333333,
              "#9c179e"
             ],
             [
              0.4444444444444444,
              "#bd3786"
             ],
             [
              0.5555555555555556,
              "#d8576b"
             ],
             [
              0.6666666666666666,
              "#ed7953"
             ],
             [
              0.7777777777777778,
              "#fb9f3a"
             ],
             [
              0.8888888888888888,
              "#fdca26"
             ],
             [
              1,
              "#f0f921"
             ]
            ],
            "type": "histogram2dcontour"
           }
          ],
          "mesh3d": [
           {
            "colorbar": {
             "outlinewidth": 0,
             "ticks": ""
            },
            "type": "mesh3d"
           }
          ],
          "parcoords": [
           {
            "line": {
             "colorbar": {
              "outlinewidth": 0,
              "ticks": ""
             }
            },
            "type": "parcoords"
           }
          ],
          "pie": [
           {
            "automargin": true,
            "type": "pie"
           }
          ],
          "scatter": [
           {
            "marker": {
             "colorbar": {
              "outlinewidth": 0,
              "ticks": ""
             }
            },
            "type": "scatter"
           }
          ],
          "scatter3d": [
           {
            "line": {
             "colorbar": {
              "outlinewidth": 0,
              "ticks": ""
             }
            },
            "marker": {
             "colorbar": {
              "outlinewidth": 0,
              "ticks": ""
             }
            },
            "type": "scatter3d"
           }
          ],
          "scattercarpet": [
           {
            "marker": {
             "colorbar": {
              "outlinewidth": 0,
              "ticks": ""
             }
            },
            "type": "scattercarpet"
           }
          ],
          "scattergeo": [
           {
            "marker": {
             "colorbar": {
              "outlinewidth": 0,
              "ticks": ""
             }
            },
            "type": "scattergeo"
           }
          ],
          "scattergl": [
           {
            "marker": {
             "colorbar": {
              "outlinewidth": 0,
              "ticks": ""
             }
            },
            "type": "scattergl"
           }
          ],
          "scattermapbox": [
           {
            "marker": {
             "colorbar": {
              "outlinewidth": 0,
              "ticks": ""
             }
            },
            "type": "scattermapbox"
           }
          ],
          "scatterpolar": [
           {
            "marker": {
             "colorbar": {
              "outlinewidth": 0,
              "ticks": ""
             }
            },
            "type": "scatterpolar"
           }
          ],
          "scatterpolargl": [
           {
            "marker": {
             "colorbar": {
              "outlinewidth": 0,
              "ticks": ""
             }
            },
            "type": "scatterpolargl"
           }
          ],
          "scatterternary": [
           {
            "marker": {
             "colorbar": {
              "outlinewidth": 0,
              "ticks": ""
             }
            },
            "type": "scatterternary"
           }
          ],
          "surface": [
           {
            "colorbar": {
             "outlinewidth": 0,
             "ticks": ""
            },
            "colorscale": [
             [
              0,
              "#0d0887"
             ],
             [
              0.1111111111111111,
              "#46039f"
             ],
             [
              0.2222222222222222,
              "#7201a8"
             ],
             [
              0.3333333333333333,
              "#9c179e"
             ],
             [
              0.4444444444444444,
              "#bd3786"
             ],
             [
              0.5555555555555556,
              "#d8576b"
             ],
             [
              0.6666666666666666,
              "#ed7953"
             ],
             [
              0.7777777777777778,
              "#fb9f3a"
             ],
             [
              0.8888888888888888,
              "#fdca26"
             ],
             [
              1,
              "#f0f921"
             ]
            ],
            "type": "surface"
           }
          ],
          "table": [
           {
            "cells": {
             "fill": {
              "color": "#EBF0F8"
             },
             "line": {
              "color": "white"
             }
            },
            "header": {
             "fill": {
              "color": "#C8D4E3"
             },
             "line": {
              "color": "white"
             }
            },
            "type": "table"
           }
          ]
         },
         "layout": {
          "annotationdefaults": {
           "arrowcolor": "#2a3f5f",
           "arrowhead": 0,
           "arrowwidth": 1
          },
          "autotypenumbers": "strict",
          "coloraxis": {
           "colorbar": {
            "outlinewidth": 0,
            "ticks": ""
           }
          },
          "colorscale": {
           "diverging": [
            [
             0,
             "#8e0152"
            ],
            [
             0.1,
             "#c51b7d"
            ],
            [
             0.2,
             "#de77ae"
            ],
            [
             0.3,
             "#f1b6da"
            ],
            [
             0.4,
             "#fde0ef"
            ],
            [
             0.5,
             "#f7f7f7"
            ],
            [
             0.6,
             "#e6f5d0"
            ],
            [
             0.7,
             "#b8e186"
            ],
            [
             0.8,
             "#7fbc41"
            ],
            [
             0.9,
             "#4d9221"
            ],
            [
             1,
             "#276419"
            ]
           ],
           "sequential": [
            [
             0,
             "#0d0887"
            ],
            [
             0.1111111111111111,
             "#46039f"
            ],
            [
             0.2222222222222222,
             "#7201a8"
            ],
            [
             0.3333333333333333,
             "#9c179e"
            ],
            [
             0.4444444444444444,
             "#bd3786"
            ],
            [
             0.5555555555555556,
             "#d8576b"
            ],
            [
             0.6666666666666666,
             "#ed7953"
            ],
            [
             0.7777777777777778,
             "#fb9f3a"
            ],
            [
             0.8888888888888888,
             "#fdca26"
            ],
            [
             1,
             "#f0f921"
            ]
           ],
           "sequentialminus": [
            [
             0,
             "#0d0887"
            ],
            [
             0.1111111111111111,
             "#46039f"
            ],
            [
             0.2222222222222222,
             "#7201a8"
            ],
            [
             0.3333333333333333,
             "#9c179e"
            ],
            [
             0.4444444444444444,
             "#bd3786"
            ],
            [
             0.5555555555555556,
             "#d8576b"
            ],
            [
             0.6666666666666666,
             "#ed7953"
            ],
            [
             0.7777777777777778,
             "#fb9f3a"
            ],
            [
             0.8888888888888888,
             "#fdca26"
            ],
            [
             1,
             "#f0f921"
            ]
           ]
          },
          "colorway": [
           "#636efa",
           "#EF553B",
           "#00cc96",
           "#ab63fa",
           "#FFA15A",
           "#19d3f3",
           "#FF6692",
           "#B6E880",
           "#FF97FF",
           "#FECB52"
          ],
          "font": {
           "color": "#2a3f5f"
          },
          "geo": {
           "bgcolor": "white",
           "lakecolor": "white",
           "landcolor": "#E5ECF6",
           "showlakes": true,
           "showland": true,
           "subunitcolor": "white"
          },
          "hoverlabel": {
           "align": "left"
          },
          "hovermode": "closest",
          "mapbox": {
           "style": "light"
          },
          "paper_bgcolor": "white",
          "plot_bgcolor": "#E5ECF6",
          "polar": {
           "angularaxis": {
            "gridcolor": "white",
            "linecolor": "white",
            "ticks": ""
           },
           "bgcolor": "#E5ECF6",
           "radialaxis": {
            "gridcolor": "white",
            "linecolor": "white",
            "ticks": ""
           }
          },
          "scene": {
           "xaxis": {
            "backgroundcolor": "#E5ECF6",
            "gridcolor": "white",
            "gridwidth": 2,
            "linecolor": "white",
            "showbackground": true,
            "ticks": "",
            "zerolinecolor": "white"
           },
           "yaxis": {
            "backgroundcolor": "#E5ECF6",
            "gridcolor": "white",
            "gridwidth": 2,
            "linecolor": "white",
            "showbackground": true,
            "ticks": "",
            "zerolinecolor": "white"
           },
           "zaxis": {
            "backgroundcolor": "#E5ECF6",
            "gridcolor": "white",
            "gridwidth": 2,
            "linecolor": "white",
            "showbackground": true,
            "ticks": "",
            "zerolinecolor": "white"
           }
          },
          "shapedefaults": {
           "line": {
            "color": "#2a3f5f"
           }
          },
          "ternary": {
           "aaxis": {
            "gridcolor": "white",
            "linecolor": "white",
            "ticks": ""
           },
           "baxis": {
            "gridcolor": "white",
            "linecolor": "white",
            "ticks": ""
           },
           "bgcolor": "#E5ECF6",
           "caxis": {
            "gridcolor": "white",
            "linecolor": "white",
            "ticks": ""
           }
          },
          "title": {
           "x": 0.05
          },
          "xaxis": {
           "automargin": true,
           "gridcolor": "white",
           "linecolor": "white",
           "ticks": "",
           "title": {
            "standoff": 15
           },
           "zerolinecolor": "white",
           "zerolinewidth": 2
          },
          "yaxis": {
           "automargin": true,
           "gridcolor": "white",
           "linecolor": "white",
           "ticks": "",
           "title": {
            "standoff": 15
           },
           "zerolinecolor": "white",
           "zerolinewidth": 2
          }
         }
        }
       }
      },
      "text/html": [
       "<div>                            <div id=\"ddddc9dd-256a-47e6-81f0-9bb29df6ddba\" class=\"plotly-graph-div\" style=\"height:525px; width:100%;\"></div>            <script type=\"text/javascript\">                require([\"plotly\"], function(Plotly) {                    window.PLOTLYENV=window.PLOTLYENV || {};                                    if (document.getElementById(\"ddddc9dd-256a-47e6-81f0-9bb29df6ddba\")) {                    Plotly.newPlot(                        \"ddddc9dd-256a-47e6-81f0-9bb29df6ddba\",                        [{\"coloraxis\":\"coloraxis\",\"geo\":\"geo\",\"hovertemplate\":\"<b>%{hovertext}</b><br><br>State=%{location}<br>Wildfire Count=%{z}<extra></extra>\",\"hovertext\":[\"AK\",\"AL\",\"AR\",\"AZ\",\"CA\",\"CO\",\"CT\",\"DC\",\"DE\",\"FL\",\"GA\",\"HI\",\"IA\",\"ID\",\"IL\",\"IN\",\"KS\",\"KY\",\"LA\",\"MA\",\"MD\",\"ME\",\"MI\",\"MN\",\"MO\",\"MS\",\"MT\",\"NC\",\"ND\",\"NE\",\"NH\",\"NJ\",\"NM\",\"NV\",\"NY\",\"OH\",\"OK\",\"OR\",\"PA\",\"PR\",\"RI\",\"SC\",\"SD\",\"TN\",\"TX\",\"UT\",\"VA\",\"VT\",\"WA\",\"WI\",\"WV\",\"WY\"],\"locationmode\":\"USA-states\",\"locations\":[\"AK\",\"AL\",\"AR\",\"AZ\",\"CA\",\"CO\",\"CT\",\"DC\",\"DE\",\"FL\",\"GA\",\"HI\",\"IA\",\"ID\",\"IL\",\"IN\",\"KS\",\"KY\",\"LA\",\"MA\",\"MD\",\"ME\",\"MI\",\"MN\",\"MO\",\"MS\",\"MT\",\"NC\",\"ND\",\"NE\",\"NH\",\"NJ\",\"NM\",\"NV\",\"NY\",\"OH\",\"OK\",\"OR\",\"PA\",\"PR\",\"RI\",\"SC\",\"SD\",\"TN\",\"TX\",\"UT\",\"VA\",\"VT\",\"WA\",\"WI\",\"WV\",\"WY\"],\"name\":\"\",\"z\":[15195,74833,37947,104956,251881,68629,6714,83,198,103409,185040,9970,5672,42060,3022,2277,18576,30874,33129,8371,4157,16439,19127,51074,24510,84706,51960,130165,20020,11743,3081,32251,43578,20210,99142,5675,50189,71449,12861,22202,787,88052,36389,34531,180087,36982,24542,781,40776,38191,25064,20009],\"type\":\"choropleth\"}],                        {\"template\":{\"data\":{\"bar\":[{\"error_x\":{\"color\":\"#2a3f5f\"},\"error_y\":{\"color\":\"#2a3f5f\"},\"marker\":{\"line\":{\"color\":\"#E5ECF6\",\"width\":0.5},\"pattern\":{\"fillmode\":\"overlay\",\"size\":10,\"solidity\":0.2}},\"type\":\"bar\"}],\"barpolar\":[{\"marker\":{\"line\":{\"color\":\"#E5ECF6\",\"width\":0.5},\"pattern\":{\"fillmode\":\"overlay\",\"size\":10,\"solidity\":0.2}},\"type\":\"barpolar\"}],\"carpet\":[{\"aaxis\":{\"endlinecolor\":\"#2a3f5f\",\"gridcolor\":\"white\",\"linecolor\":\"white\",\"minorgridcolor\":\"white\",\"startlinecolor\":\"#2a3f5f\"},\"baxis\":{\"endlinecolor\":\"#2a3f5f\",\"gridcolor\":\"white\",\"linecolor\":\"white\",\"minorgridcolor\":\"white\",\"startlinecolor\":\"#2a3f5f\"},\"type\":\"carpet\"}],\"choropleth\":[{\"colorbar\":{\"outlinewidth\":0,\"ticks\":\"\"},\"type\":\"choropleth\"}],\"contour\":[{\"colorbar\":{\"outlinewidth\":0,\"ticks\":\"\"},\"colorscale\":[[0.0,\"#0d0887\"],[0.1111111111111111,\"#46039f\"],[0.2222222222222222,\"#7201a8\"],[0.3333333333333333,\"#9c179e\"],[0.4444444444444444,\"#bd3786\"],[0.5555555555555556,\"#d8576b\"],[0.6666666666666666,\"#ed7953\"],[0.7777777777777778,\"#fb9f3a\"],[0.8888888888888888,\"#fdca26\"],[1.0,\"#f0f921\"]],\"type\":\"contour\"}],\"contourcarpet\":[{\"colorbar\":{\"outlinewidth\":0,\"ticks\":\"\"},\"type\":\"contourcarpet\"}],\"heatmap\":[{\"colorbar\":{\"outlinewidth\":0,\"ticks\":\"\"},\"colorscale\":[[0.0,\"#0d0887\"],[0.1111111111111111,\"#46039f\"],[0.2222222222222222,\"#7201a8\"],[0.3333333333333333,\"#9c179e\"],[0.4444444444444444,\"#bd3786\"],[0.5555555555555556,\"#d8576b\"],[0.6666666666666666,\"#ed7953\"],[0.7777777777777778,\"#fb9f3a\"],[0.8888888888888888,\"#fdca26\"],[1.0,\"#f0f921\"]],\"type\":\"heatmap\"}],\"heatmapgl\":[{\"colorbar\":{\"outlinewidth\":0,\"ticks\":\"\"},\"colorscale\":[[0.0,\"#0d0887\"],[0.1111111111111111,\"#46039f\"],[0.2222222222222222,\"#7201a8\"],[0.3333333333333333,\"#9c179e\"],[0.4444444444444444,\"#bd3786\"],[0.5555555555555556,\"#d8576b\"],[0.6666666666666666,\"#ed7953\"],[0.7777777777777778,\"#fb9f3a\"],[0.8888888888888888,\"#fdca26\"],[1.0,\"#f0f921\"]],\"type\":\"heatmapgl\"}],\"histogram\":[{\"marker\":{\"pattern\":{\"fillmode\":\"overlay\",\"size\":10,\"solidity\":0.2}},\"type\":\"histogram\"}],\"histogram2d\":[{\"colorbar\":{\"outlinewidth\":0,\"ticks\":\"\"},\"colorscale\":[[0.0,\"#0d0887\"],[0.1111111111111111,\"#46039f\"],[0.2222222222222222,\"#7201a8\"],[0.3333333333333333,\"#9c179e\"],[0.4444444444444444,\"#bd3786\"],[0.5555555555555556,\"#d8576b\"],[0.6666666666666666,\"#ed7953\"],[0.7777777777777778,\"#fb9f3a\"],[0.8888888888888888,\"#fdca26\"],[1.0,\"#f0f921\"]],\"type\":\"histogram2d\"}],\"histogram2dcontour\":[{\"colorbar\":{\"outlinewidth\":0,\"ticks\":\"\"},\"colorscale\":[[0.0,\"#0d0887\"],[0.1111111111111111,\"#46039f\"],[0.2222222222222222,\"#7201a8\"],[0.3333333333333333,\"#9c179e\"],[0.4444444444444444,\"#bd3786\"],[0.5555555555555556,\"#d8576b\"],[0.6666666666666666,\"#ed7953\"],[0.7777777777777778,\"#fb9f3a\"],[0.8888888888888888,\"#fdca26\"],[1.0,\"#f0f921\"]],\"type\":\"histogram2dcontour\"}],\"mesh3d\":[{\"colorbar\":{\"outlinewidth\":0,\"ticks\":\"\"},\"type\":\"mesh3d\"}],\"parcoords\":[{\"line\":{\"colorbar\":{\"outlinewidth\":0,\"ticks\":\"\"}},\"type\":\"parcoords\"}],\"pie\":[{\"automargin\":true,\"type\":\"pie\"}],\"scatter\":[{\"marker\":{\"colorbar\":{\"outlinewidth\":0,\"ticks\":\"\"}},\"type\":\"scatter\"}],\"scatter3d\":[{\"line\":{\"colorbar\":{\"outlinewidth\":0,\"ticks\":\"\"}},\"marker\":{\"colorbar\":{\"outlinewidth\":0,\"ticks\":\"\"}},\"type\":\"scatter3d\"}],\"scattercarpet\":[{\"marker\":{\"colorbar\":{\"outlinewidth\":0,\"ticks\":\"\"}},\"type\":\"scattercarpet\"}],\"scattergeo\":[{\"marker\":{\"colorbar\":{\"outlinewidth\":0,\"ticks\":\"\"}},\"type\":\"scattergeo\"}],\"scattergl\":[{\"marker\":{\"colorbar\":{\"outlinewidth\":0,\"ticks\":\"\"}},\"type\":\"scattergl\"}],\"scattermapbox\":[{\"marker\":{\"colorbar\":{\"outlinewidth\":0,\"ticks\":\"\"}},\"type\":\"scattermapbox\"}],\"scatterpolar\":[{\"marker\":{\"colorbar\":{\"outlinewidth\":0,\"ticks\":\"\"}},\"type\":\"scatterpolar\"}],\"scatterpolargl\":[{\"marker\":{\"colorbar\":{\"outlinewidth\":0,\"ticks\":\"\"}},\"type\":\"scatterpolargl\"}],\"scatterternary\":[{\"marker\":{\"colorbar\":{\"outlinewidth\":0,\"ticks\":\"\"}},\"type\":\"scatterternary\"}],\"surface\":[{\"colorbar\":{\"outlinewidth\":0,\"ticks\":\"\"},\"colorscale\":[[0.0,\"#0d0887\"],[0.1111111111111111,\"#46039f\"],[0.2222222222222222,\"#7201a8\"],[0.3333333333333333,\"#9c179e\"],[0.4444444444444444,\"#bd3786\"],[0.5555555555555556,\"#d8576b\"],[0.6666666666666666,\"#ed7953\"],[0.7777777777777778,\"#fb9f3a\"],[0.8888888888888888,\"#fdca26\"],[1.0,\"#f0f921\"]],\"type\":\"surface\"}],\"table\":[{\"cells\":{\"fill\":{\"color\":\"#EBF0F8\"},\"line\":{\"color\":\"white\"}},\"header\":{\"fill\":{\"color\":\"#C8D4E3\"},\"line\":{\"color\":\"white\"}},\"type\":\"table\"}]},\"layout\":{\"annotationdefaults\":{\"arrowcolor\":\"#2a3f5f\",\"arrowhead\":0,\"arrowwidth\":1},\"autotypenumbers\":\"strict\",\"coloraxis\":{\"colorbar\":{\"outlinewidth\":0,\"ticks\":\"\"}},\"colorscale\":{\"diverging\":[[0,\"#8e0152\"],[0.1,\"#c51b7d\"],[0.2,\"#de77ae\"],[0.3,\"#f1b6da\"],[0.4,\"#fde0ef\"],[0.5,\"#f7f7f7\"],[0.6,\"#e6f5d0\"],[0.7,\"#b8e186\"],[0.8,\"#7fbc41\"],[0.9,\"#4d9221\"],[1,\"#276419\"]],\"sequential\":[[0.0,\"#0d0887\"],[0.1111111111111111,\"#46039f\"],[0.2222222222222222,\"#7201a8\"],[0.3333333333333333,\"#9c179e\"],[0.4444444444444444,\"#bd3786\"],[0.5555555555555556,\"#d8576b\"],[0.6666666666666666,\"#ed7953\"],[0.7777777777777778,\"#fb9f3a\"],[0.8888888888888888,\"#fdca26\"],[1.0,\"#f0f921\"]],\"sequentialminus\":[[0.0,\"#0d0887\"],[0.1111111111111111,\"#46039f\"],[0.2222222222222222,\"#7201a8\"],[0.3333333333333333,\"#9c179e\"],[0.4444444444444444,\"#bd3786\"],[0.5555555555555556,\"#d8576b\"],[0.6666666666666666,\"#ed7953\"],[0.7777777777777778,\"#fb9f3a\"],[0.8888888888888888,\"#fdca26\"],[1.0,\"#f0f921\"]]},\"colorway\":[\"#636efa\",\"#EF553B\",\"#00cc96\",\"#ab63fa\",\"#FFA15A\",\"#19d3f3\",\"#FF6692\",\"#B6E880\",\"#FF97FF\",\"#FECB52\"],\"font\":{\"color\":\"#2a3f5f\"},\"geo\":{\"bgcolor\":\"white\",\"lakecolor\":\"white\",\"landcolor\":\"#E5ECF6\",\"showlakes\":true,\"showland\":true,\"subunitcolor\":\"white\"},\"hoverlabel\":{\"align\":\"left\"},\"hovermode\":\"closest\",\"mapbox\":{\"style\":\"light\"},\"paper_bgcolor\":\"white\",\"plot_bgcolor\":\"#E5ECF6\",\"polar\":{\"angularaxis\":{\"gridcolor\":\"white\",\"linecolor\":\"white\",\"ticks\":\"\"},\"bgcolor\":\"#E5ECF6\",\"radialaxis\":{\"gridcolor\":\"white\",\"linecolor\":\"white\",\"ticks\":\"\"}},\"scene\":{\"xaxis\":{\"backgroundcolor\":\"#E5ECF6\",\"gridcolor\":\"white\",\"gridwidth\":2,\"linecolor\":\"white\",\"showbackground\":true,\"ticks\":\"\",\"zerolinecolor\":\"white\"},\"yaxis\":{\"backgroundcolor\":\"#E5ECF6\",\"gridcolor\":\"white\",\"gridwidth\":2,\"linecolor\":\"white\",\"showbackground\":true,\"ticks\":\"\",\"zerolinecolor\":\"white\"},\"zaxis\":{\"backgroundcolor\":\"#E5ECF6\",\"gridcolor\":\"white\",\"gridwidth\":2,\"linecolor\":\"white\",\"showbackground\":true,\"ticks\":\"\",\"zerolinecolor\":\"white\"}},\"shapedefaults\":{\"line\":{\"color\":\"#2a3f5f\"}},\"ternary\":{\"aaxis\":{\"gridcolor\":\"white\",\"linecolor\":\"white\",\"ticks\":\"\"},\"baxis\":{\"gridcolor\":\"white\",\"linecolor\":\"white\",\"ticks\":\"\"},\"bgcolor\":\"#E5ECF6\",\"caxis\":{\"gridcolor\":\"white\",\"linecolor\":\"white\",\"ticks\":\"\"}},\"title\":{\"x\":0.05},\"xaxis\":{\"automargin\":true,\"gridcolor\":\"white\",\"linecolor\":\"white\",\"ticks\":\"\",\"title\":{\"standoff\":15},\"zerolinecolor\":\"white\",\"zerolinewidth\":2},\"yaxis\":{\"automargin\":true,\"gridcolor\":\"white\",\"linecolor\":\"white\",\"ticks\":\"\",\"title\":{\"standoff\":15},\"zerolinecolor\":\"white\",\"zerolinewidth\":2}}},\"geo\":{\"domain\":{\"x\":[0.0,1.0],\"y\":[0.0,1.0]},\"center\":{},\"scope\":\"usa\"},\"coloraxis\":{\"colorbar\":{\"title\":{\"text\":\"Wildfire Count\"}},\"colorscale\":[[0.0,\"rgb(255,255,204)\"],[0.125,\"rgb(255,237,160)\"],[0.25,\"rgb(254,217,118)\"],[0.375,\"rgb(254,178,76)\"],[0.5,\"rgb(253,141,60)\"],[0.625,\"rgb(252,78,42)\"],[0.75,\"rgb(227,26,28)\"],[0.875,\"rgb(189,0,38)\"],[1.0,\"rgb(128,0,38)\"]]},\"legend\":{\"tracegroupgap\":0},\"margin\":{\"t\":60}},                        {\"responsive\": true}                    ).then(function(){\n",
       "                            \n",
       "var gd = document.getElementById('ddddc9dd-256a-47e6-81f0-9bb29df6ddba');\n",
       "var x = new MutationObserver(function (mutations, observer) {{\n",
       "        var display = window.getComputedStyle(gd).display;\n",
       "        if (!display || display === 'none') {{\n",
       "            console.log([gd, 'removed!']);\n",
       "            Plotly.purge(gd);\n",
       "            observer.disconnect();\n",
       "        }}\n",
       "}});\n",
       "\n",
       "// Listen for the removal of the full notebook cells\n",
       "var notebookContainer = gd.closest('#notebook-container');\n",
       "if (notebookContainer) {{\n",
       "    x.observe(notebookContainer, {childList: true});\n",
       "}}\n",
       "\n",
       "// Listen for the clearing of the current output cell\n",
       "var outputEl = gd.closest('.output');\n",
       "if (outputEl) {{\n",
       "    x.observe(outputEl, {childList: true});\n",
       "}}\n",
       "\n",
       "                        })                };                });            </script>        </div>"
      ]
     },
     "metadata": {},
     "output_type": "display_data"
    }
   ],
   "source": [
    "# https://medium.com/geekculture/create-a-choropleth-map-of-state-unemployment-rates-with-plotly-1354050e0cfd\n",
    "\n",
    "fig = px.choropleth(state_wildfire_freq_df,\n",
    "                    locations='State',\n",
    "                    color='Wildfire Count',\n",
    "                    hover_name='State',\n",
    "                    color_continuous_scale='YlOrRd',\n",
    "                    locationmode='USA-states',\n",
    "                    scope='usa')\n",
    "fig.show()"
   ]
  },
  {
   "cell_type": "markdown",
   "id": "28f01e6b",
   "metadata": {},
   "source": [
    "## Challenges / Next Steps\n",
    "- Tried using Geopandas at first to create the US map, had trouble loading in the shape files (fixed with Plotly)\n",
    "- Large dataset, takes some time to run (approx 3-4 minutes)\n",
    "- Didn't have time to answer all of my questions I wanted to, also wanted to add interactivity via Streamlit\n",
    "- Had trouble coming up with relational datasets\n",
    "- The data is a bit too clean (but that's common from most Kaggle datasets)"
   ]
  }
 ],
 "metadata": {
  "kernelspec": {
   "display_name": "Python 3 (ipykernel)",
   "language": "python",
   "name": "python3"
  },
  "language_info": {
   "codemirror_mode": {
    "name": "ipython",
    "version": 3
   },
   "file_extension": ".py",
   "mimetype": "text/x-python",
   "name": "python",
   "nbconvert_exporter": "python",
   "pygments_lexer": "ipython3",
   "version": "3.9.12"
  }
 },
 "nbformat": 4,
 "nbformat_minor": 5
}
